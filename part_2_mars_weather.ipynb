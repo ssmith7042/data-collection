{
 "cells": [
  {
   "cell_type": "markdown",
   "metadata": {},
   "source": [
    "# Module 12 Challenge\n",
    "## Deliverable 2: Scrape and Analyze Mars Weather Data"
   ]
  },
  {
   "cell_type": "code",
   "execution_count": 1,
   "metadata": {},
   "outputs": [],
   "source": [
    "# Import relevant libraries\n",
    "from splinter import Browser\n",
    "from bs4 import BeautifulSoup as soup\n",
    "import matplotlib.pyplot as plt\n",
    "import pandas as pd"
   ]
  },
  {
   "cell_type": "code",
   "execution_count": 2,
   "metadata": {},
   "outputs": [],
   "source": [
    "browser = Browser('chrome')"
   ]
  },
  {
   "cell_type": "markdown",
   "metadata": {},
   "source": [
    "### Step 1: Visit the Website\n",
    "\n",
    "Use automated browsing to visit the [Mars Temperature Data Site](https://static.bc-edx.com/data/web/mars_facts/temperature.html). Inspect the page to identify which elements to scrape.\n",
    "\n",
    "   > **Hint** To identify which elements to scrape, you might want to inspect the page by using Chrome DevTools to discover whether the table contains usable classes.\n"
   ]
  },
  {
   "cell_type": "code",
   "execution_count": 3,
   "metadata": {},
   "outputs": [],
   "source": [
    "# Visit the website\n",
    "# https://static.bc-edx.com/data/web/mars_facts/temperature.html\n",
    "url = \"https://static.bc-edx.com/data/web/mars_facts/temperature.html\"\n",
    "browser.visit(url)"
   ]
  },
  {
   "cell_type": "markdown",
   "metadata": {},
   "source": [
    "### Step 2: Scrape the Table\n",
    "\n",
    "Create a Beautiful Soup object and use it to scrape the data in the HTML table.\n",
    "\n",
    "Note that this can also be achieved by using the Pandas `read_html` function. However, use Beautiful Soup here to continue sharpening your web scraping skills."
   ]
  },
  {
   "cell_type": "code",
   "execution_count": 4,
   "metadata": {},
   "outputs": [],
   "source": [
    "# Create a Beautiful Soup Object\n",
    "parse_table=soup(browser.html, 'html.parser')"
   ]
  },
  {
   "cell_type": "code",
   "execution_count": 5,
   "metadata": {},
   "outputs": [],
   "source": [
    "# Extract all rows of data\n",
    "mars_dat = parse_table.find_all('tr')"
   ]
  },
  {
   "cell_type": "markdown",
   "metadata": {},
   "source": [
    "### Step 3: Store the Data\n",
    "\n",
    "Assemble the scraped data into a Pandas DataFrame. The columns should have the same headings as the table on the website. Here’s an explanation of the column headings:\n",
    "\n",
    "* `id`: the identification number of a single transmission from the Curiosity rover\n",
    "* `terrestrial_date`: the date on Earth\n",
    "* `sol`: the number of elapsed sols (Martian days) since Curiosity landed on Mars\n",
    "* `ls`: the solar longitude\n",
    "* `month`: the Martian month\n",
    "* `min_temp`: the minimum temperature, in Celsius, of a single Martian day (sol)\n",
    "* `pressure`: The atmospheric pressure at Curiosity's location"
   ]
  },
  {
   "cell_type": "code",
   "execution_count": 6,
   "metadata": {},
   "outputs": [],
   "source": [
    "# Create an empty list\n",
    "colnames = []\n",
    "for c in mars_dat[0].find_all(\"th\"):\n",
    "    colnames.append(c.text)\n",
    "# colnames\n",
    "\n",
    "# Loop through the scraped data to create a list of rows\n",
    "all_rows = []\n",
    "for r in mars_dat[1:]:\n",
    "    row_dat = []\n",
    "    for rd in r.find_all(\"td\"):\n",
    "        row_dat.append(rd.text)\n",
    "    all_rows.append(row_dat)"
   ]
  },
  {
   "cell_type": "code",
   "execution_count": 7,
   "metadata": {},
   "outputs": [],
   "source": [
    "# Create a Pandas DataFrame by using the list of rows and a list of the column names\n",
    "mars_table=pd.DataFrame(all_rows, columns=colnames)"
   ]
  },
  {
   "cell_type": "code",
   "execution_count": 8,
   "metadata": {},
   "outputs": [
    {
     "data": {
      "text/html": [
       "<div>\n",
       "<style scoped>\n",
       "    .dataframe tbody tr th:only-of-type {\n",
       "        vertical-align: middle;\n",
       "    }\n",
       "\n",
       "    .dataframe tbody tr th {\n",
       "        vertical-align: top;\n",
       "    }\n",
       "\n",
       "    .dataframe thead th {\n",
       "        text-align: right;\n",
       "    }\n",
       "</style>\n",
       "<table border=\"1\" class=\"dataframe\">\n",
       "  <thead>\n",
       "    <tr style=\"text-align: right;\">\n",
       "      <th></th>\n",
       "      <th>id</th>\n",
       "      <th>terrestrial_date</th>\n",
       "      <th>sol</th>\n",
       "      <th>ls</th>\n",
       "      <th>month</th>\n",
       "      <th>min_temp</th>\n",
       "      <th>pressure</th>\n",
       "    </tr>\n",
       "  </thead>\n",
       "  <tbody>\n",
       "    <tr>\n",
       "      <th>0</th>\n",
       "      <td>2</td>\n",
       "      <td>2012-08-16</td>\n",
       "      <td>10</td>\n",
       "      <td>155</td>\n",
       "      <td>6</td>\n",
       "      <td>-75.0</td>\n",
       "      <td>739.0</td>\n",
       "    </tr>\n",
       "    <tr>\n",
       "      <th>1</th>\n",
       "      <td>13</td>\n",
       "      <td>2012-08-17</td>\n",
       "      <td>11</td>\n",
       "      <td>156</td>\n",
       "      <td>6</td>\n",
       "      <td>-76.0</td>\n",
       "      <td>740.0</td>\n",
       "    </tr>\n",
       "    <tr>\n",
       "      <th>2</th>\n",
       "      <td>24</td>\n",
       "      <td>2012-08-18</td>\n",
       "      <td>12</td>\n",
       "      <td>156</td>\n",
       "      <td>6</td>\n",
       "      <td>-76.0</td>\n",
       "      <td>741.0</td>\n",
       "    </tr>\n",
       "    <tr>\n",
       "      <th>3</th>\n",
       "      <td>35</td>\n",
       "      <td>2012-08-19</td>\n",
       "      <td>13</td>\n",
       "      <td>157</td>\n",
       "      <td>6</td>\n",
       "      <td>-74.0</td>\n",
       "      <td>732.0</td>\n",
       "    </tr>\n",
       "    <tr>\n",
       "      <th>4</th>\n",
       "      <td>46</td>\n",
       "      <td>2012-08-20</td>\n",
       "      <td>14</td>\n",
       "      <td>157</td>\n",
       "      <td>6</td>\n",
       "      <td>-74.0</td>\n",
       "      <td>740.0</td>\n",
       "    </tr>\n",
       "  </tbody>\n",
       "</table>\n",
       "</div>"
      ],
      "text/plain": [
       "   id terrestrial_date sol   ls month min_temp pressure\n",
       "0   2       2012-08-16  10  155     6    -75.0    739.0\n",
       "1  13       2012-08-17  11  156     6    -76.0    740.0\n",
       "2  24       2012-08-18  12  156     6    -76.0    741.0\n",
       "3  35       2012-08-19  13  157     6    -74.0    732.0\n",
       "4  46       2012-08-20  14  157     6    -74.0    740.0"
      ]
     },
     "execution_count": 8,
     "metadata": {},
     "output_type": "execute_result"
    }
   ],
   "source": [
    "# Confirm DataFrame was created successfully\n",
    "mars_table.head()"
   ]
  },
  {
   "cell_type": "markdown",
   "metadata": {},
   "source": [
    "### Step 4: Prepare Data for Analysis\n",
    "\n",
    "Examine the data types that are currently associated with each column. If necessary, cast (or convert) the data to the appropriate `datetime`, `int`, or `float` data types.\n",
    "\n",
    "  > **Hint** You can use the Pandas `astype` and `to_datetime` methods to accomplish this task.\n"
   ]
  },
  {
   "cell_type": "code",
   "execution_count": 9,
   "metadata": {},
   "outputs": [
    {
     "data": {
      "text/plain": [
       "id                  object\n",
       "terrestrial_date    object\n",
       "sol                 object\n",
       "ls                  object\n",
       "month               object\n",
       "min_temp            object\n",
       "pressure            object\n",
       "dtype: object"
      ]
     },
     "execution_count": 9,
     "metadata": {},
     "output_type": "execute_result"
    }
   ],
   "source": [
    "# Examine data type of each column\n",
    "mars_table.dtypes"
   ]
  },
  {
   "cell_type": "code",
   "execution_count": 10,
   "metadata": {},
   "outputs": [],
   "source": [
    "# Change data types for data analysis\n",
    "mars_table[['terrestrial_date']] = mars_table[['terrestrial_date']].apply(pd.to_datetime)\n",
    "mars_table[['sol', 'ls', 'month']] = mars_table[['sol', 'ls', 'month']].astype('int')\n",
    "mars_table[['min_temp', 'pressure']] = mars_table[['min_temp', 'pressure']].astype('float')\n"
   ]
  },
  {
   "cell_type": "code",
   "execution_count": 11,
   "metadata": {},
   "outputs": [
    {
     "data": {
      "text/plain": [
       "id                          object\n",
       "terrestrial_date    datetime64[ns]\n",
       "sol                          int64\n",
       "ls                           int64\n",
       "month                        int64\n",
       "min_temp                   float64\n",
       "pressure                   float64\n",
       "dtype: object"
      ]
     },
     "execution_count": 11,
     "metadata": {},
     "output_type": "execute_result"
    }
   ],
   "source": [
    "# Confirm type changes were successful by examining data types again\n",
    "mars_table.dtypes"
   ]
  },
  {
   "cell_type": "markdown",
   "metadata": {},
   "source": [
    "### Step 5: Analyze the Data\n",
    "\n",
    "Analyze your dataset by using Pandas functions to answer the following questions:\n",
    "\n",
    "1. How many months exist on Mars?\n",
    "2. How many Martian (and not Earth) days worth of data exist in the scraped dataset?\n",
    "3. What are the coldest and the warmest months on Mars (at the location of Curiosity)? To answer this question:\n",
    "    * Find the average the minimum daily temperature for all of the months.\n",
    "    * Plot the results as a bar chart.\n",
    "4. Which months have the lowest and the highest atmospheric pressure on Mars? To answer this question:\n",
    "    * Find the average the daily atmospheric pressure of all the months.\n",
    "    * Plot the results as a bar chart.\n",
    "5. About how many terrestrial (Earth) days exist in a Martian year? To answer this question:\n",
    "    * Consider how many days elapse on Earth in the time that Mars circles the Sun once.\n",
    "    * Visually estimate the result by plotting the daily minimum temperature.\n"
   ]
  },
  {
   "cell_type": "code",
   "execution_count": 12,
   "metadata": {},
   "outputs": [
    {
     "data": {
      "text/html": [
       "<div>\n",
       "<style scoped>\n",
       "    .dataframe tbody tr th:only-of-type {\n",
       "        vertical-align: middle;\n",
       "    }\n",
       "\n",
       "    .dataframe tbody tr th {\n",
       "        vertical-align: top;\n",
       "    }\n",
       "\n",
       "    .dataframe thead th {\n",
       "        text-align: right;\n",
       "    }\n",
       "</style>\n",
       "<table border=\"1\" class=\"dataframe\">\n",
       "  <thead>\n",
       "    <tr style=\"text-align: right;\">\n",
       "      <th></th>\n",
       "      <th>id</th>\n",
       "      <th>terrestrial_date</th>\n",
       "      <th>sol</th>\n",
       "      <th>ls</th>\n",
       "      <th>month</th>\n",
       "      <th>min_temp</th>\n",
       "      <th>pressure</th>\n",
       "    </tr>\n",
       "  </thead>\n",
       "  <tbody>\n",
       "    <tr>\n",
       "      <th>0</th>\n",
       "      <td>2</td>\n",
       "      <td>2012-08-16</td>\n",
       "      <td>10</td>\n",
       "      <td>155</td>\n",
       "      <td>6</td>\n",
       "      <td>-75.0</td>\n",
       "      <td>739.0</td>\n",
       "    </tr>\n",
       "    <tr>\n",
       "      <th>1</th>\n",
       "      <td>13</td>\n",
       "      <td>2012-08-17</td>\n",
       "      <td>11</td>\n",
       "      <td>156</td>\n",
       "      <td>6</td>\n",
       "      <td>-76.0</td>\n",
       "      <td>740.0</td>\n",
       "    </tr>\n",
       "    <tr>\n",
       "      <th>2</th>\n",
       "      <td>24</td>\n",
       "      <td>2012-08-18</td>\n",
       "      <td>12</td>\n",
       "      <td>156</td>\n",
       "      <td>6</td>\n",
       "      <td>-76.0</td>\n",
       "      <td>741.0</td>\n",
       "    </tr>\n",
       "    <tr>\n",
       "      <th>3</th>\n",
       "      <td>35</td>\n",
       "      <td>2012-08-19</td>\n",
       "      <td>13</td>\n",
       "      <td>157</td>\n",
       "      <td>6</td>\n",
       "      <td>-74.0</td>\n",
       "      <td>732.0</td>\n",
       "    </tr>\n",
       "    <tr>\n",
       "      <th>4</th>\n",
       "      <td>46</td>\n",
       "      <td>2012-08-20</td>\n",
       "      <td>14</td>\n",
       "      <td>157</td>\n",
       "      <td>6</td>\n",
       "      <td>-74.0</td>\n",
       "      <td>740.0</td>\n",
       "    </tr>\n",
       "  </tbody>\n",
       "</table>\n",
       "</div>"
      ],
      "text/plain": [
       "   id terrestrial_date  sol   ls  month  min_temp  pressure\n",
       "0   2       2012-08-16   10  155      6     -75.0     739.0\n",
       "1  13       2012-08-17   11  156      6     -76.0     740.0\n",
       "2  24       2012-08-18   12  156      6     -76.0     741.0\n",
       "3  35       2012-08-19   13  157      6     -74.0     732.0\n",
       "4  46       2012-08-20   14  157      6     -74.0     740.0"
      ]
     },
     "execution_count": 12,
     "metadata": {},
     "output_type": "execute_result"
    }
   ],
   "source": [
    "mars_table.head()"
   ]
  },
  {
   "cell_type": "code",
   "execution_count": 13,
   "metadata": {},
   "outputs": [
    {
     "data": {
      "text/plain": [
       "1     174\n",
       "2     178\n",
       "3     192\n",
       "4     194\n",
       "5     149\n",
       "6     147\n",
       "7     142\n",
       "8     141\n",
       "9     134\n",
       "10    112\n",
       "11    138\n",
       "12    166\n",
       "Name: month, dtype: int64"
      ]
     },
     "execution_count": 13,
     "metadata": {},
     "output_type": "execute_result"
    }
   ],
   "source": [
    "mars_table.month.value_counts()[mars_table.month.sort_values().unique()]"
   ]
  },
  {
   "cell_type": "code",
   "execution_count": 14,
   "metadata": {},
   "outputs": [
    {
     "data": {
      "text/plain": [
       "12"
      ]
     },
     "execution_count": 14,
     "metadata": {},
     "output_type": "execute_result"
    }
   ],
   "source": [
    "# 1. How many months are there on Mars?\n",
    "len(mars_table.month.value_counts()[mars_table.month.sort_values().unique()])"
   ]
  },
  {
   "cell_type": "code",
   "execution_count": 15,
   "metadata": {},
   "outputs": [
    {
     "data": {
      "text/plain": [
       "1867"
      ]
     },
     "execution_count": 15,
     "metadata": {},
     "output_type": "execute_result"
    }
   ],
   "source": [
    "# 2. How many Martian days' worth of data are there?\n",
    "mars_table.sol.nunique()"
   ]
  },
  {
   "cell_type": "code",
   "execution_count": 16,
   "metadata": {},
   "outputs": [
    {
     "data": {
      "text/html": [
       "<div>\n",
       "<style scoped>\n",
       "    .dataframe tbody tr th:only-of-type {\n",
       "        vertical-align: middle;\n",
       "    }\n",
       "\n",
       "    .dataframe tbody tr th {\n",
       "        vertical-align: top;\n",
       "    }\n",
       "\n",
       "    .dataframe thead th {\n",
       "        text-align: right;\n",
       "    }\n",
       "</style>\n",
       "<table border=\"1\" class=\"dataframe\">\n",
       "  <thead>\n",
       "    <tr style=\"text-align: right;\">\n",
       "      <th></th>\n",
       "      <th>min_temp</th>\n",
       "    </tr>\n",
       "    <tr>\n",
       "      <th>month</th>\n",
       "      <th></th>\n",
       "    </tr>\n",
       "  </thead>\n",
       "  <tbody>\n",
       "    <tr>\n",
       "      <th>1</th>\n",
       "      <td>-77.160920</td>\n",
       "    </tr>\n",
       "    <tr>\n",
       "      <th>2</th>\n",
       "      <td>-79.932584</td>\n",
       "    </tr>\n",
       "    <tr>\n",
       "      <th>3</th>\n",
       "      <td>-83.307292</td>\n",
       "    </tr>\n",
       "    <tr>\n",
       "      <th>4</th>\n",
       "      <td>-82.747423</td>\n",
       "    </tr>\n",
       "    <tr>\n",
       "      <th>5</th>\n",
       "      <td>-79.308725</td>\n",
       "    </tr>\n",
       "    <tr>\n",
       "      <th>6</th>\n",
       "      <td>-75.299320</td>\n",
       "    </tr>\n",
       "    <tr>\n",
       "      <th>7</th>\n",
       "      <td>-72.281690</td>\n",
       "    </tr>\n",
       "    <tr>\n",
       "      <th>8</th>\n",
       "      <td>-68.382979</td>\n",
       "    </tr>\n",
       "    <tr>\n",
       "      <th>9</th>\n",
       "      <td>-69.171642</td>\n",
       "    </tr>\n",
       "    <tr>\n",
       "      <th>10</th>\n",
       "      <td>-71.982143</td>\n",
       "    </tr>\n",
       "    <tr>\n",
       "      <th>11</th>\n",
       "      <td>-71.985507</td>\n",
       "    </tr>\n",
       "    <tr>\n",
       "      <th>12</th>\n",
       "      <td>-74.451807</td>\n",
       "    </tr>\n",
       "  </tbody>\n",
       "</table>\n",
       "</div>"
      ],
      "text/plain": [
       "        min_temp\n",
       "month           \n",
       "1     -77.160920\n",
       "2     -79.932584\n",
       "3     -83.307292\n",
       "4     -82.747423\n",
       "5     -79.308725\n",
       "6     -75.299320\n",
       "7     -72.281690\n",
       "8     -68.382979\n",
       "9     -69.171642\n",
       "10    -71.982143\n",
       "11    -71.985507\n",
       "12    -74.451807"
      ]
     },
     "execution_count": 16,
     "metadata": {},
     "output_type": "execute_result"
    }
   ],
   "source": [
    "mars_table[['month', 'min_temp']].groupby('month').mean()\n",
    "#mars_table.groupby('month').mean().loc[:,'min_temp']"
   ]
  },
  {
   "cell_type": "code",
   "execution_count": 17,
   "metadata": {},
   "outputs": [
    {
     "data": {
      "text/html": [
       "<div>\n",
       "<style scoped>\n",
       "    .dataframe tbody tr th:only-of-type {\n",
       "        vertical-align: middle;\n",
       "    }\n",
       "\n",
       "    .dataframe tbody tr th {\n",
       "        vertical-align: top;\n",
       "    }\n",
       "\n",
       "    .dataframe thead th {\n",
       "        text-align: right;\n",
       "    }\n",
       "</style>\n",
       "<table border=\"1\" class=\"dataframe\">\n",
       "  <thead>\n",
       "    <tr style=\"text-align: right;\">\n",
       "      <th></th>\n",
       "      <th>min_temp</th>\n",
       "    </tr>\n",
       "    <tr>\n",
       "      <th>month</th>\n",
       "      <th></th>\n",
       "    </tr>\n",
       "  </thead>\n",
       "  <tbody>\n",
       "    <tr>\n",
       "      <th>1</th>\n",
       "      <td>-77.160920</td>\n",
       "    </tr>\n",
       "    <tr>\n",
       "      <th>2</th>\n",
       "      <td>-79.932584</td>\n",
       "    </tr>\n",
       "    <tr>\n",
       "      <th>3</th>\n",
       "      <td>-83.307292</td>\n",
       "    </tr>\n",
       "    <tr>\n",
       "      <th>4</th>\n",
       "      <td>-82.747423</td>\n",
       "    </tr>\n",
       "    <tr>\n",
       "      <th>5</th>\n",
       "      <td>-79.308725</td>\n",
       "    </tr>\n",
       "    <tr>\n",
       "      <th>6</th>\n",
       "      <td>-75.299320</td>\n",
       "    </tr>\n",
       "    <tr>\n",
       "      <th>7</th>\n",
       "      <td>-72.281690</td>\n",
       "    </tr>\n",
       "    <tr>\n",
       "      <th>8</th>\n",
       "      <td>-68.382979</td>\n",
       "    </tr>\n",
       "    <tr>\n",
       "      <th>9</th>\n",
       "      <td>-69.171642</td>\n",
       "    </tr>\n",
       "    <tr>\n",
       "      <th>10</th>\n",
       "      <td>-71.982143</td>\n",
       "    </tr>\n",
       "    <tr>\n",
       "      <th>11</th>\n",
       "      <td>-71.985507</td>\n",
       "    </tr>\n",
       "    <tr>\n",
       "      <th>12</th>\n",
       "      <td>-74.451807</td>\n",
       "    </tr>\n",
       "  </tbody>\n",
       "</table>\n",
       "</div>"
      ],
      "text/plain": [
       "        min_temp\n",
       "month           \n",
       "1     -77.160920\n",
       "2     -79.932584\n",
       "3     -83.307292\n",
       "4     -82.747423\n",
       "5     -79.308725\n",
       "6     -75.299320\n",
       "7     -72.281690\n",
       "8     -68.382979\n",
       "9     -69.171642\n",
       "10    -71.982143\n",
       "11    -71.985507\n",
       "12    -74.451807"
      ]
     },
     "execution_count": 17,
     "metadata": {},
     "output_type": "execute_result"
    }
   ],
   "source": [
    "# 3. What is the average low temperature by month?\n",
    "mars_table[['month', 'min_temp']].groupby('month').mean()\n"
   ]
  },
  {
   "cell_type": "code",
   "execution_count": 18,
   "metadata": {},
   "outputs": [
    {
     "name": "stderr",
     "output_type": "stream",
     "text": [
      "/var/folders/qc/d04_m_7n4cs5y22qn84znkg80000gn/T/ipykernel_12648/1328339766.py:2: FutureWarning: The default value of numeric_only in DataFrameGroupBy.mean is deprecated. In a future version, numeric_only will default to False. Either specify numeric_only or select only columns which should be valid for the function.\n",
      "  mars_table.groupby('month').mean().loc[:,'min_temp'].plot.bar()\n"
     ]
    },
    {
     "data": {
      "text/plain": [
       "<Axes: xlabel='month'>"
      ]
     },
     "execution_count": 18,
     "metadata": {},
     "output_type": "execute_result"
    },
    {
     "data": {
      "image/png": "[encoded data removed]",
      "text/plain": [
       "<Figure size 640x480 with 1 Axes>"
      ]
     },
     "metadata": {},
     "output_type": "display_data"
    }
   ],
   "source": [
    "# Plot the average temperature by month\n",
    "mars_table.groupby('month').mean().loc[:,'min_temp'].plot.bar()"
   ]
  },
  {
   "cell_type": "code",
   "execution_count": 19,
   "metadata": {},
   "outputs": [
    {
     "name": "stderr",
     "output_type": "stream",
     "text": [
      "/var/folders/qc/d04_m_7n4cs5y22qn84znkg80000gn/T/ipykernel_12648/1225491033.py:2: FutureWarning: The default value of numeric_only in DataFrameGroupBy.mean is deprecated. In a future version, numeric_only will default to False. Either specify numeric_only or select only columns which should be valid for the function.\n",
      "  mars_month_temps = mars_table.groupby('month').mean().loc[:,'min_temp']\n"
     ]
    },
    {
     "data": {
      "text/plain": [
       "<Axes: xlabel='month'>"
      ]
     },
     "execution_count": 19,
     "metadata": {},
     "output_type": "execute_result"
    },
    {
     "data": {
      "image/png": "[encoded data removed]",
      "text/plain": [
       "<Figure size 640x480 with 1 Axes>"
      ]
     },
     "metadata": {},
     "output_type": "display_data"
    }
   ],
   "source": [
    "# Identify the coldest and hottest months in Curiosity's location\n",
    "mars_month_temps = mars_table.groupby('month').mean().loc[:,'min_temp']\n",
    "mars_month_temps.sort_values().plot.bar()"
   ]
  },
  {
   "cell_type": "code",
   "execution_count": 20,
   "metadata": {},
   "outputs": [
    {
     "name": "stderr",
     "output_type": "stream",
     "text": [
      "/var/folders/qc/d04_m_7n4cs5y22qn84znkg80000gn/T/ipykernel_12648/2334646250.py:2: FutureWarning: The default value of numeric_only in DataFrameGroupBy.mean is deprecated. In a future version, numeric_only will default to False. Either specify numeric_only or select only columns which should be valid for the function.\n",
      "  mars_table.groupby('month').mean().loc[:,'pressure'].sort_values()\n"
     ]
    },
    {
     "data": {
      "text/plain": [
       "month\n",
       "6     745.054422\n",
       "5     748.557047\n",
       "7     795.105634\n",
       "4     806.329897\n",
       "12    842.156627\n",
       "11    857.014493\n",
       "1     862.488506\n",
       "8     873.829787\n",
       "3     877.322917\n",
       "10    887.312500\n",
       "2     889.455056\n",
       "9     913.305970\n",
       "Name: pressure, dtype: float64"
      ]
     },
     "execution_count": 20,
     "metadata": {},
     "output_type": "execute_result"
    }
   ],
   "source": [
    "# 4. Average pressure by Martian month\n",
    "mars_table.groupby('month').mean().loc[:,'pressure'].sort_values()"
   ]
  },
  {
   "cell_type": "code",
   "execution_count": 21,
   "metadata": {},
   "outputs": [
    {
     "name": "stderr",
     "output_type": "stream",
     "text": [
      "/var/folders/qc/d04_m_7n4cs5y22qn84znkg80000gn/T/ipykernel_12648/427441635.py:2: FutureWarning: The default value of numeric_only in DataFrameGroupBy.mean is deprecated. In a future version, numeric_only will default to False. Either specify numeric_only or select only columns which should be valid for the function.\n",
      "  mars_table.groupby('month').mean().loc[:,'pressure'].sort_values().plot.bar()\n"
     ]
    },
    {
     "data": {
      "text/plain": [
       "<Axes: xlabel='month'>"
      ]
     },
     "execution_count": 21,
     "metadata": {},
     "output_type": "execute_result"
    },
    {
     "data": {
      "image/png": "[encoded data removed]",
      "text/plain": [
       "<Figure size 640x480 with 1 Axes>"
      ]
     },
     "metadata": {},
     "output_type": "display_data"
    }
   ],
   "source": [
    "# Plot the average pressure by month\n",
    "mars_table.groupby('month').mean().loc[:,'pressure'].sort_values().plot.bar()"
   ]
  },
  {
   "cell_type": "code",
   "execution_count": 22,
   "metadata": {},
   "outputs": [
    {
     "data": {
      "text/plain": [
       "1"
      ]
     },
     "execution_count": 22,
     "metadata": {},
     "output_type": "execute_result"
    }
   ],
   "source": [
    "delta_ = mars_table.terrestrial_date[1] - mars_table.terrestrial_date[0]\n",
    "delta_.days"
   ]
  },
  {
   "cell_type": "code",
   "execution_count": 23,
   "metadata": {},
   "outputs": [],
   "source": [
    "# 5. How many terrestrial (earth) days are there in a Martian year?\n",
    "landing_day = mars_table.terrestrial_date[0]\n",
    "mars_table['earth_dt_delta'] = mars_table.terrestrial_date.apply(lambda x: x - landing_day)\n",
    "mars_table['earth_elapse'] = mars_table.earth_dt_delta.apply(lambda x: x.days)"
   ]
  },
  {
   "cell_type": "code",
   "execution_count": 24,
   "metadata": {},
   "outputs": [
    {
     "data": {
      "text/html": [
       "<div>\n",
       "<style scoped>\n",
       "    .dataframe tbody tr th:only-of-type {\n",
       "        vertical-align: middle;\n",
       "    }\n",
       "\n",
       "    .dataframe tbody tr th {\n",
       "        vertical-align: top;\n",
       "    }\n",
       "\n",
       "    .dataframe thead th {\n",
       "        text-align: right;\n",
       "    }\n",
       "</style>\n",
       "<table border=\"1\" class=\"dataframe\">\n",
       "  <thead>\n",
       "    <tr style=\"text-align: right;\">\n",
       "      <th></th>\n",
       "      <th>id</th>\n",
       "      <th>terrestrial_date</th>\n",
       "      <th>sol</th>\n",
       "      <th>ls</th>\n",
       "      <th>month</th>\n",
       "      <th>min_temp</th>\n",
       "      <th>pressure</th>\n",
       "      <th>earth_dt_delta</th>\n",
       "      <th>earth_elapse</th>\n",
       "    </tr>\n",
       "  </thead>\n",
       "  <tbody>\n",
       "    <tr>\n",
       "      <th>0</th>\n",
       "      <td>2</td>\n",
       "      <td>2012-08-16</td>\n",
       "      <td>10</td>\n",
       "      <td>155</td>\n",
       "      <td>6</td>\n",
       "      <td>-75.0</td>\n",
       "      <td>739.0</td>\n",
       "      <td>0 days</td>\n",
       "      <td>0</td>\n",
       "    </tr>\n",
       "    <tr>\n",
       "      <th>1</th>\n",
       "      <td>13</td>\n",
       "      <td>2012-08-17</td>\n",
       "      <td>11</td>\n",
       "      <td>156</td>\n",
       "      <td>6</td>\n",
       "      <td>-76.0</td>\n",
       "      <td>740.0</td>\n",
       "      <td>1 days</td>\n",
       "      <td>1</td>\n",
       "    </tr>\n",
       "    <tr>\n",
       "      <th>2</th>\n",
       "      <td>24</td>\n",
       "      <td>2012-08-18</td>\n",
       "      <td>12</td>\n",
       "      <td>156</td>\n",
       "      <td>6</td>\n",
       "      <td>-76.0</td>\n",
       "      <td>741.0</td>\n",
       "      <td>2 days</td>\n",
       "      <td>2</td>\n",
       "    </tr>\n",
       "    <tr>\n",
       "      <th>3</th>\n",
       "      <td>35</td>\n",
       "      <td>2012-08-19</td>\n",
       "      <td>13</td>\n",
       "      <td>157</td>\n",
       "      <td>6</td>\n",
       "      <td>-74.0</td>\n",
       "      <td>732.0</td>\n",
       "      <td>3 days</td>\n",
       "      <td>3</td>\n",
       "    </tr>\n",
       "    <tr>\n",
       "      <th>4</th>\n",
       "      <td>46</td>\n",
       "      <td>2012-08-20</td>\n",
       "      <td>14</td>\n",
       "      <td>157</td>\n",
       "      <td>6</td>\n",
       "      <td>-74.0</td>\n",
       "      <td>740.0</td>\n",
       "      <td>4 days</td>\n",
       "      <td>4</td>\n",
       "    </tr>\n",
       "  </tbody>\n",
       "</table>\n",
       "</div>"
      ],
      "text/plain": [
       "   id terrestrial_date  sol   ls  month  min_temp  pressure earth_dt_delta  \\\n",
       "0   2       2012-08-16   10  155      6     -75.0     739.0         0 days   \n",
       "1  13       2012-08-17   11  156      6     -76.0     740.0         1 days   \n",
       "2  24       2012-08-18   12  156      6     -76.0     741.0         2 days   \n",
       "3  35       2012-08-19   13  157      6     -74.0     732.0         3 days   \n",
       "4  46       2012-08-20   14  157      6     -74.0     740.0         4 days   \n",
       "\n",
       "   earth_elapse  \n",
       "0             0  \n",
       "1             1  \n",
       "2             2  \n",
       "3             3  \n",
       "4             4  "
      ]
     },
     "execution_count": 24,
     "metadata": {},
     "output_type": "execute_result"
    }
   ],
   "source": [
    "mars_table.head()"
   ]
  },
  {
   "cell_type": "code",
   "execution_count": 25,
   "metadata": {},
   "outputs": [
    {
     "data": {
      "text/plain": [
       "<Axes: xlabel='earth_elapse'>"
      ]
     },
     "execution_count": 25,
     "metadata": {},
     "output_type": "execute_result"
    },
    {
     "data": {
      "image/png": "[encoded data removed]",
      "text/plain": [
       "<Figure size 640x480 with 1 Axes>"
      ]
     },
     "metadata": {},
     "output_type": "display_data"
    }
   ],
   "source": [
    "mars_table.plot.line(x='earth_elapse', y='min_temp')"
   ]
  },
  {
   "cell_type": "markdown",
   "metadata": {},
   "source": [
    "On average, the third month has the coldest minimum temperature on Mars, and the eighth month is the warmest. But it is always very cold there in human terms!\n",
    "\n"
   ]
  },
  {
   "cell_type": "markdown",
   "metadata": {},
   "source": [
    "Atmospheric pressure is, on average, lowest in the sixth month and highest in the ninth."
   ]
  },
  {
   "cell_type": "markdown",
   "metadata": {},
   "source": [
    "The distance from peak to peak is roughly 1425-750, or 675 days. A year on Mars appears to be about 675 days from the plot. Internet search confirms that a Mars year is equivalent to 687 earth days."
   ]
  },
  {
   "cell_type": "markdown",
   "metadata": {},
   "source": [
    "### Step 6: Save the Data\n",
    "\n",
    "Export the DataFrame to a CSV file."
   ]
  },
  {
   "cell_type": "code",
   "execution_count": 26,
   "metadata": {},
   "outputs": [
    {
     "data": {
      "text/plain": [
       "',id,terrestrial_date,sol,ls,month,min_temp,pressure,earth_dt_delta,earth_elapse\\n0,2,2012-08-16,10,155,6,-75.0,739.0,0 days,0\\n1,13,2012-08-17,11,156,6,-76.0,740.0,1 days,1\\n2,24,2012-08-18,12,156,6,-76.0,741.0,2 days,2\\n3,35,2012-08-19,13,157,6,-74.0,732.0,3 days,3\\n4,46,2012-08-20,14,157,6,-74.0,740.0,4 days,4\\n5,57,2012-08-21,15,158,6,-78.0,740.0,5 days,5\\n6,68,2012-08-22,16,158,6,-77.0,740.0,6 days,6\\n7,79,2012-08-23,17,159,6,-76.0,742.0,7 days,7\\n8,112,2012-08-27,21,161,6,-74.0,741.0,11 days,11\\n9,114,2012-08-28,22,162,6,-74.0,742.0,12 days,12\\n10,123,2012-08-29,23,162,6,-75.0,741.0,13 days,13\\n11,134,2012-08-30,24,163,6,-75.0,742.0,14 days,14\\n12,145,2012-08-31,25,163,6,-75.0,743.0,15 days,15\\n13,156,2012-09-01,26,164,6,-76.0,745.0,16 days,16\\n14,163,2012-09-02,27,164,6,-75.0,743.0,17 days,17\\n15,170,2012-09-03,28,165,6,-75.0,745.0,18 days,18\\n16,171,2012-09-04,29,166,6,-75.0,747.0,19 days,19\\n17,172,2012-09-05,30,166,6,-74.0,747.0,20 days,20\\n18,173,2012-09-06,31,167,6,-74.0,745.0,21 days,21\\n19,175,2012-09-08,33,168,6,-73.0,748.0,23 days,23\\n20,176,2012-09-10,34,168,6,-73.0,748.0,25 days,25\\n21,177,2012-09-11,35,169,6,-73.0,749.0,26 days,26\\n22,178,2012-09-12,36,169,6,-73.0,750.0,27 days,27\\n23,179,2012-09-13,37,170,6,-73.0,750.0,28 days,28\\n24,180,2012-09-14,38,171,6,-73.0,750.0,29 days,29\\n25,181,2012-09-15,39,171,6,-75.0,751.0,30 days,30\\n26,182,2012-09-16,40,172,6,-75.0,753.0,31 days,31\\n27,183,2012-09-17,41,172,6,-75.0,753.0,32 days,32\\n28,184,2012-09-18,42,173,6,-75.0,754.0,33 days,33\\n29,185,2012-09-19,43,173,6,-74.0,756.0,34 days,34\\n30,186,2012-09-20,44,174,6,-75.0,757.0,35 days,35\\n31,187,2012-09-21,45,175,6,-74.0,758.0,36 days,36\\n32,188,2012-09-22,46,175,6,-74.0,758.0,37 days,37\\n33,189,2012-09-23,47,176,6,-75.0,758.0,38 days,38\\n34,190,2012-09-24,48,176,6,-75.0,759.0,39 days,39\\n35,191,2012-09-25,49,177,6,-74.0,761.0,40 days,40\\n36,192,2012-09-26,50,177,6,-72.0,761.0,41 days,41\\n37,193,2012-09-27,51,178,6,-76.0,762.0,42 days,42\\n38,194,2012-09-28,52,179,6,-74.0,762.0,43 days,43\\n39,195,2012-09-29,53,179,6,-71.0,764.0,44 days,44\\n40,196,2012-09-30,54,180,7,-72.0,766.0,45 days,45\\n41,197,2012-10-01,55,180,7,-74.0,766.0,46 days,46\\n42,198,2012-10-02,56,181,7,-73.0,768.0,47 days,47\\n43,199,2012-10-03,57,181,7,-73.0,769.0,48 days,48\\n44,200,2012-10-04,58,182,7,-74.0,769.0,49 days,49\\n45,201,2012-10-05,59,183,7,-76.0,771.0,50 days,50\\n46,202,2012-10-06,60,183,7,-75.0,772.0,51 days,51\\n47,203,2012-10-07,61,184,7,-72.0,772.0,52 days,52\\n48,204,2012-10-08,62,184,7,-72.0,774.0,53 days,53\\n49,205,2012-10-09,63,185,7,-73.0,775.0,54 days,54\\n50,206,2012-10-10,64,186,7,-74.0,776.0,55 days,55\\n51,207,2012-10-11,65,186,7,-72.0,777.0,56 days,56\\n52,208,2012-10-12,66,187,7,-73.0,778.0,57 days,57\\n53,209,2012-10-13,67,187,7,-73.0,780.0,58 days,58\\n54,210,2012-10-14,68,188,7,-71.0,781.0,59 days,59\\n55,211,2012-10-15,69,189,7,-73.0,778.0,60 days,60\\n56,212,2012-10-17,70,189,7,-72.0,783.0,62 days,62\\n57,213,2012-10-18,71,190,7,-71.0,784.0,63 days,63\\n58,214,2012-10-19,72,190,7,-73.0,785.0,64 days,64\\n59,215,2012-10-20,73,191,7,-70.0,788.0,65 days,65\\n60,216,2012-10-21,74,192,7,-72.0,790.0,66 days,66\\n61,217,2012-10-22,75,192,7,-73.0,791.0,67 days,67\\n62,218,2012-10-23,76,193,7,-73.0,792.0,68 days,68\\n63,219,2012-10-24,77,193,7,-71.0,792.0,69 days,69\\n64,220,2012-10-25,78,194,7,-71.0,793.0,70 days,70\\n65,221,2012-10-26,79,195,7,-73.0,795.0,71 days,71\\n66,222,2012-10-27,80,195,7,-70.0,796.0,72 days,72\\n67,223,2012-10-28,81,196,7,-72.0,798.0,73 days,73\\n68,224,2012-10-29,82,196,7,-72.0,799.0,74 days,74\\n69,225,2012-10-30,83,197,7,-72.0,801.0,75 days,75\\n70,226,2012-10-31,84,198,7,-70.0,801.0,76 days,76\\n71,227,2012-11-01,85,198,7,-71.0,805.0,77 days,77\\n72,228,2012-11-02,86,199,7,-71.0,808.0,78 days,78\\n73,229,2012-11-03,87,199,7,-70.0,808.0,79 days,79\\n74,230,2012-11-04,88,200,7,-70.0,811.0,80 days,80\\n75,231,2012-11-05,89,201,7,-73.0,813.0,81 days,81\\n76,233,2012-11-06,90,201,7,-71.0,813.0,82 days,82\\n77,234,2012-11-07,91,202,7,-74.0,817.0,83 days,83\\n78,235,2012-11-08,92,202,7,-74.0,820.0,84 days,84\\n79,236,2012-11-09,93,203,7,-72.0,819.0,85 days,85\\n80,237,2012-11-10,94,204,7,-70.0,822.0,86 days,86\\n81,238,2012-11-11,95,204,7,-68.0,822.0,87 days,87\\n82,239,2012-11-12,96,205,7,-71.0,826.0,88 days,88\\n83,240,2012-11-13,97,206,7,-68.0,828.0,89 days,89\\n84,241,2012-11-14,98,206,7,-68.0,828.0,90 days,90\\n85,242,2012-11-15,99,207,7,-68.0,829.0,91 days,91\\n86,3,2012-11-16,100,207,7,-66.0,829.0,92 days,92\\n87,4,2012-11-17,101,208,7,-65.0,830.0,93 days,93\\n88,5,2012-11-18,102,209,7,-67.0,833.0,94 days,94\\n89,6,2012-11-19,103,209,7,-66.0,836.0,95 days,95\\n90,7,2012-11-20,104,210,8,-67.0,838.0,96 days,96\\n91,8,2012-11-21,105,211,8,-66.0,839.0,97 days,97\\n92,9,2012-11-23,106,211,8,-66.0,841.0,99 days,99\\n93,10,2012-11-24,107,212,8,-66.0,844.0,100 days,100\\n94,11,2012-11-25,108,212,8,-65.0,845.0,101 days,101\\n95,12,2012-11-26,109,213,8,-64.0,844.0,102 days,102\\n96,14,2012-11-27,110,214,8,-65.0,848.0,103 days,103\\n97,15,2012-11-28,111,214,8,-66.0,849.0,104 days,104\\n98,16,2012-11-29,112,215,8,-65.0,852.0,105 days,105\\n99,17,2012-11-30,113,216,8,-66.0,857.0,106 days,106\\n100,18,2012-12-01,114,216,8,-69.0,857.0,107 days,107\\n101,19,2012-12-02,115,217,8,-66.0,857.0,108 days,108\\n102,20,2012-12-03,116,217,8,-67.0,859.0,109 days,109\\n103,21,2012-12-04,117,218,8,-66.0,861.0,110 days,110\\n104,22,2012-12-05,118,219,8,-65.0,864.0,111 days,111\\n105,23,2012-12-06,119,219,8,-66.0,866.0,112 days,112\\n106,25,2012-12-07,120,220,8,-67.0,867.0,113 days,113\\n107,26,2012-12-08,121,221,8,-66.0,869.0,114 days,114\\n108,27,2012-12-09,122,221,8,-65.0,869.0,115 days,115\\n109,28,2012-12-10,123,222,8,-66.0,875.0,116 days,116\\n110,29,2012-12-11,124,223,8,-66.0,876.0,117 days,117\\n111,30,2012-12-12,125,223,8,-68.0,880.0,118 days,118\\n112,31,2012-12-13,126,224,8,-66.0,880.0,119 days,119\\n113,32,2012-12-14,127,224,8,-67.0,884.0,120 days,120\\n114,33,2012-12-15,128,225,8,-67.0,883.0,121 days,121\\n115,34,2012-12-16,129,226,8,-65.0,886.0,122 days,122\\n116,36,2012-12-17,130,226,8,-65.0,888.0,123 days,123\\n117,37,2012-12-18,131,227,8,-65.0,889.0,124 days,124\\n118,38,2012-12-19,132,228,8,-65.0,890.0,125 days,125\\n119,39,2012-12-20,133,228,8,-65.0,891.0,126 days,126\\n120,40,2012-12-21,134,229,8,-67.0,893.0,127 days,127\\n121,41,2012-12-22,135,230,8,-65.0,894.0,128 days,128\\n122,42,2012-12-23,136,230,8,-65.0,897.0,129 days,129\\n123,43,2012-12-24,137,231,8,-64.0,896.0,130 days,130\\n124,44,2012-12-25,138,232,8,-65.0,899.0,131 days,131\\n125,45,2012-12-26,139,232,8,-66.0,899.0,132 days,132\\n126,47,2012-12-27,140,233,8,-66.0,903.0,133 days,133\\n127,48,2012-12-28,141,233,8,-64.0,904.0,134 days,134\\n128,49,2012-12-29,142,234,8,-65.0,906.0,135 days,135\\n129,50,2012-12-31,143,235,8,-63.0,908.0,137 days,137\\n130,51,2013-01-01,144,235,8,-64.0,907.0,138 days,138\\n131,52,2013-01-02,145,236,8,-64.0,909.0,139 days,139\\n132,53,2013-01-03,146,237,8,-65.0,908.0,140 days,140\\n133,54,2013-01-04,147,237,8,-65.0,914.0,141 days,141\\n134,55,2013-01-05,148,238,8,-65.0,912.0,142 days,142\\n135,56,2013-01-06,149,239,8,-65.0,914.0,143 days,143\\n136,58,2013-01-07,150,239,8,-64.0,913.0,144 days,144\\n137,59,2013-01-08,151,240,9,-65.0,915.0,145 days,145\\n138,60,2013-01-09,152,241,9,-63.0,914.0,146 days,146\\n139,61,2013-01-10,153,241,9,-65.0,915.0,147 days,147\\n140,62,2013-01-11,154,242,9,-65.0,917.0,148 days,148\\n141,63,2013-01-12,155,243,9,-64.0,917.0,149 days,149\\n142,64,2013-01-13,156,243,9,-65.0,922.0,150 days,150\\n143,65,2013-01-14,157,244,9,-64.0,920.0,151 days,151\\n144,66,2013-01-15,158,245,9,-66.0,922.0,152 days,152\\n145,67,2013-01-16,159,245,9,-65.0,918.0,153 days,153\\n146,69,2013-01-17,160,246,9,-67.0,919.0,154 days,154\\n147,70,2013-01-18,161,246,9,-65.0,919.0,155 days,155\\n148,71,2013-01-19,162,247,9,-65.0,919.0,156 days,156\\n149,72,2013-01-20,163,248,9,-65.0,919.0,157 days,157\\n150,73,2013-01-21,164,248,9,-64.0,919.0,158 days,158\\n151,74,2013-01-22,165,249,9,-65.0,922.0,159 days,159\\n152,75,2013-01-23,166,250,9,-65.0,922.0,160 days,160\\n153,76,2013-01-24,167,250,9,-65.0,920.0,161 days,161\\n154,77,2013-01-25,168,251,9,-66.0,923.0,162 days,162\\n155,78,2013-01-26,169,252,9,-66.0,922.0,163 days,163\\n156,80,2013-01-27,170,252,9,-66.0,925.0,164 days,164\\n157,81,2013-01-28,171,253,9,-67.0,925.0,165 days,165\\n158,82,2013-01-29,172,254,9,-67.0,923.0,166 days,166\\n159,83,2013-01-30,173,254,9,-67.0,920.0,167 days,167\\n160,84,2013-01-31,174,255,9,-67.0,921.0,168 days,168\\n161,85,2013-02-01,175,256,9,-68.0,921.0,169 days,169\\n162,86,2013-02-02,176,256,9,-67.0,920.0,170 days,170\\n163,87,2013-02-03,177,257,9,-66.0,921.0,171 days,171\\n164,88,2013-02-04,178,258,9,-66.0,920.0,172 days,172\\n165,89,2013-02-06,179,258,9,-66.0,920.0,174 days,174\\n166,91,2013-02-07,180,259,9,-67.0,919.0,175 days,175\\n167,92,2013-02-08,181,260,9,-67.0,918.0,176 days,176\\n168,93,2013-02-09,182,260,9,-67.0,921.0,177 days,177\\n169,94,2013-02-10,183,261,9,-67.0,921.0,178 days,178\\n170,95,2013-02-11,184,261,9,-67.0,923.0,179 days,179\\n171,96,2013-02-12,185,262,9,-67.0,923.0,180 days,180\\n172,97,2013-02-13,186,263,9,-66.0,922.0,181 days,181\\n173,98,2013-02-14,187,263,9,-67.0,921.0,182 days,182\\n174,99,2013-02-15,188,264,9,-68.0,920.0,183 days,183\\n175,100,2013-02-16,189,265,9,-68.0,920.0,184 days,184\\n176,102,2013-02-17,190,265,9,-66.0,917.0,185 days,185\\n177,103,2013-02-18,191,266,9,-67.0,921.0,186 days,186\\n178,106,2013-02-23,196,269,9,-66.0,916.0,191 days,191\\n179,107,2013-02-24,197,270,10,-68.0,915.0,192 days,192\\n180,108,2013-02-25,198,271,10,-67.0,914.0,193 days,193\\n181,109,2013-02-26,199,271,10,-66.0,917.0,194 days,194\\n182,116,2013-03-23,223,287,10,-71.0,895.0,219 days,219\\n183,117,2013-03-24,224,287,10,-69.0,894.0,220 days,220\\n184,118,2013-03-25,225,288,10,-71.0,894.0,221 days,221\\n185,119,2013-03-26,226,288,10,-70.0,894.0,222 days,222\\n186,120,2013-03-27,227,289,10,-70.0,892.0,223 days,223\\n187,121,2013-03-28,228,290,10,-71.0,894.0,224 days,224\\n188,122,2013-03-29,229,290,10,-69.0,894.0,225 days,225\\n189,124,2013-03-30,230,291,10,-69.0,888.0,226 days,226\\n190,125,2013-03-31,231,292,10,-71.0,890.0,227 days,227\\n191,126,2013-04-01,232,292,10,-69.0,888.0,228 days,228\\n192,127,2013-04-02,233,293,10,-69.0,889.0,229 days,229\\n193,128,2013-04-03,234,293,10,-69.0,890.0,230 days,230\\n194,129,2013-04-04,235,294,10,-70.0,886.0,231 days,231\\n195,130,2013-04-05,236,295,10,-72.0,886.0,232 days,232\\n196,131,2013-04-06,237,295,10,-71.0,883.0,233 days,233\\n197,132,2013-04-07,238,296,10,-70.0,885.0,234 days,234\\n198,133,2013-04-08,239,297,10,-73.0,885.0,235 days,235\\n199,135,2013-04-09,240,297,10,-70.0,884.0,236 days,236\\n200,136,2013-04-10,241,298,10,-72.0,884.0,237 days,237\\n201,137,2013-04-11,242,298,10,-70.0,881.0,238 days,238\\n202,138,2013-04-12,243,299,10,-71.0,884.0,239 days,239\\n203,139,2013-04-13,244,300,11,-69.0,878.0,240 days,240\\n204,140,2013-04-14,245,300,11,-70.0,879.0,241 days,241\\n205,141,2013-04-15,246,301,11,-73.0,878.0,242 days,242\\n206,142,2013-04-16,247,301,11,-71.0,873.0,243 days,243\\n207,143,2013-04-17,248,302,11,-70.0,877.0,244 days,244\\n208,144,2013-04-18,249,303,11,-69.0,873.0,245 days,245\\n209,146,2013-04-19,250,303,11,-70.0,877.0,246 days,246\\n210,147,2013-04-20,251,304,11,-71.0,876.0,247 days,247\\n211,148,2013-04-22,252,304,11,-71.0,874.0,249 days,249\\n212,149,2013-04-23,253,305,11,-71.0,877.0,250 days,250\\n213,150,2013-04-24,254,306,11,-70.0,871.0,251 days,251\\n214,151,2013-04-25,255,306,11,-69.0,877.0,252 days,252\\n215,152,2013-04-26,256,307,11,-70.0,871.0,253 days,253\\n216,153,2013-04-27,257,308,11,-70.0,871.0,254 days,254\\n217,154,2013-04-28,258,308,11,-71.0,869.0,255 days,255\\n218,155,2013-04-29,259,309,11,-72.0,871.0,256 days,256\\n219,157,2013-04-30,260,309,11,-70.0,875.0,257 days,257\\n220,158,2013-05-01,261,310,11,-70.0,868.0,258 days,258\\n221,161,2013-05-08,268,314,11,-70.0,864.0,265 days,265\\n222,162,2013-05-09,269,315,11,-72.0,866.0,266 days,266\\n223,164,2013-05-10,270,315,11,-67.0,863.0,267 days,267\\n224,165,2013-05-11,271,316,11,-69.0,864.0,268 days,268\\n225,166,2013-05-12,272,316,11,-71.0,864.0,269 days,269\\n226,167,2013-05-13,273,317,11,-70.0,861.0,270 days,270\\n227,168,2013-05-14,274,318,11,-70.0,861.0,271 days,271\\n228,169,2013-05-15,275,318,11,-67.0,860.0,272 days,272\\n229,244,2013-05-16,276,319,11,-69.0,858.0,273 days,273\\n230,245,2013-05-17,277,319,11,-69.0,857.0,274 days,274\\n231,246,2013-05-18,278,320,11,-67.0,855.0,275 days,275\\n232,247,2013-05-19,279,321,11,-68.0,856.0,276 days,276\\n233,248,2013-05-20,280,321,11,-69.0,856.0,277 days,277\\n234,249,2013-05-21,281,322,11,-68.0,855.0,278 days,278\\n235,250,2013-05-22,282,322,11,-72.0,856.0,279 days,279\\n236,251,2013-05-23,283,323,11,-68.0,854.0,280 days,280\\n237,252,2013-05-24,284,323,11,-71.0,854.0,281 days,281\\n238,253,2013-05-25,285,324,11,-70.0,852.0,282 days,282\\n239,254,2013-05-26,286,325,11,-71.0,854.0,283 days,283\\n240,255,2013-05-27,287,325,11,-72.0,856.0,284 days,284\\n241,256,2013-05-29,288,326,11,-69.0,854.0,286 days,286\\n242,257,2013-05-30,289,326,11,-71.0,854.0,287 days,287\\n243,258,2013-05-31,290,327,11,-71.0,853.0,288 days,288\\n244,259,2013-06-01,291,327,11,-70.0,853.0,289 days,289\\n245,260,2013-06-02,292,328,11,-71.0,853.0,290 days,290\\n246,261,2013-06-03,293,329,11,-72.0,850.0,291 days,291\\n247,262,2013-06-04,294,329,11,-72.0,852.0,292 days,292\\n248,263,2013-06-05,295,330,12,-71.0,853.0,293 days,293\\n249,264,2013-06-06,296,330,12,-71.0,850.0,294 days,294\\n250,265,2013-06-07,297,331,12,-72.0,849.0,295 days,295\\n251,266,2013-06-08,298,331,12,-72.0,850.0,296 days,296\\n252,267,2013-06-09,299,332,12,-71.0,849.0,297 days,297\\n253,286,2013-06-10,300,333,12,-72.0,852.0,298 days,298\\n254,276,2013-06-11,301,333,12,-73.0,852.0,299 days,299\\n255,287,2013-06-12,302,334,12,-71.0,850.0,300 days,300\\n256,283,2013-06-13,303,334,12,-71.0,849.0,301 days,301\\n257,281,2013-06-14,304,335,12,-70.0,848.0,302 days,302\\n258,275,2013-06-15,305,335,12,-71.0,847.0,303 days,303\\n259,280,2013-06-16,306,336,12,-71.0,848.0,304 days,304\\n260,279,2013-06-17,307,336,12,-72.0,851.0,305 days,305\\n261,282,2013-06-18,308,337,12,-73.0,850.0,306 days,306\\n262,284,2013-06-19,309,338,12,-72.0,848.0,307 days,307\\n263,278,2013-06-20,310,338,12,-71.0,849.0,308 days,308\\n264,277,2013-06-21,311,339,12,-74.0,846.0,309 days,309\\n265,285,2013-06-22,312,339,12,-71.0,845.0,310 days,310\\n266,274,2013-06-23,313,340,12,-77.0,849.0,311 days,311\\n267,272,2013-06-24,314,340,12,-73.0,848.0,312 days,312\\n268,273,2013-06-25,315,341,12,-74.0,850.0,313 days,313\\n269,288,2013-06-26,316,341,12,-74.0,851.0,314 days,314\\n270,268,2013-06-27,317,342,12,-72.0,849.0,315 days,315\\n271,270,2013-06-28,318,342,12,-74.0,849.0,316 days,316\\n272,271,2013-06-29,319,343,12,-73.0,847.0,317 days,317\\n273,269,2013-06-30,320,344,12,-74.0,846.0,318 days,318\\n274,289,2013-07-01,321,344,12,-75.0,847.0,319 days,319\\n275,291,2013-07-02,322,345,12,-74.0,849.0,320 days,320\\n276,290,2013-07-03,323,345,12,-74.0,847.0,321 days,321\\n277,292,2013-07-04,324,346,12,-75.0,850.0,322 days,322\\n278,294,2013-07-06,325,346,12,-74.0,847.0,324 days,324\\n279,295,2013-07-07,326,347,12,-72.0,848.0,325 days,325\\n280,296,2013-07-08,327,347,12,-74.0,848.0,326 days,326\\n281,293,2013-07-09,328,348,12,-75.0,847.0,327 days,327\\n282,298,2013-07-10,329,348,12,-74.0,847.0,328 days,328\\n283,297,2013-07-11,330,349,12,-75.0,848.0,329 days,329\\n284,303,2013-07-12,331,349,12,-74.0,848.0,330 days,330\\n285,300,2013-07-13,332,350,12,-76.0,849.0,331 days,331\\n286,299,2013-07-14,333,350,12,-75.0,849.0,332 days,332\\n287,301,2013-07-15,334,351,12,-74.0,852.0,333 days,333\\n288,302,2013-07-16,335,352,12,-76.0,852.0,334 days,334\\n289,305,2013-07-17,336,352,12,-76.0,852.0,335 days,335\\n290,304,2013-07-18,337,353,12,-75.0,853.0,336 days,336\\n291,306,2013-07-19,338,353,12,-78.0,848.0,337 days,337\\n292,308,2013-07-20,339,354,12,-76.0,849.0,338 days,338\\n293,307,2013-07-21,340,354,12,-76.0,851.0,339 days,339\\n294,310,2013-07-22,341,355,12,-77.0,852.0,340 days,340\\n295,309,2013-07-23,342,355,12,-76.0,851.0,341 days,341\\n296,311,2013-07-24,343,356,12,-77.0,850.0,342 days,342\\n297,317,2013-07-25,344,356,12,-77.0,851.0,343 days,343\\n298,312,2013-07-26,345,357,12,-77.0,853.0,344 days,344\\n299,314,2013-07-27,346,357,12,-76.0,853.0,345 days,345\\n300,313,2013-07-28,347,358,12,-77.0,851.0,346 days,346\\n301,315,2013-07-29,348,358,12,-74.0,850.0,347 days,347\\n302,316,2013-07-30,349,359,12,-75.0,852.0,348 days,348\\n303,318,2013-07-31,350,359,12,-76.0,853.0,349 days,349\\n304,320,2013-08-01,351,0,1,-75.0,853.0,350 days,350\\n305,319,2013-08-02,352,0,1,-77.0,854.0,351 days,351\\n306,323,2013-08-03,353,1,1,-75.0,855.0,352 days,352\\n307,322,2013-08-04,354,1,1,-75.0,857.0,353 days,353\\n308,321,2013-08-05,355,2,1,-75.0,857.0,354 days,354\\n309,324,2013-08-06,356,2,1,-77.0,856.0,355 days,355\\n310,325,2013-08-07,357,3,1,-76.0,857.0,356 days,356\\n311,326,2013-08-17,366,7,1,-76.0,861.0,366 days,366\\n312,328,2013-08-18,367,8,1,-76.0,862.0,367 days,367\\n313,330,2013-08-19,368,8,1,-77.0,863.0,368 days,368\\n314,331,2013-08-20,369,9,1,-75.0,865.0,369 days,369\\n315,332,2013-08-21,370,9,1,-79.0,865.0,370 days,370\\n316,333,2013-08-22,371,10,1,-77.0,865.0,371 days,371\\n317,334,2013-08-23,372,10,1,-76.0,866.0,372 days,372\\n318,335,2013-08-24,373,11,1,-79.0,866.0,373 days,373\\n319,337,2013-08-25,374,11,1,-79.0,866.0,374 days,374\\n320,336,2013-08-26,375,12,1,-77.0,867.0,375 days,375\\n321,340,2013-08-27,376,12,1,-78.0,870.0,376 days,376\\n322,338,2013-08-28,377,13,1,-78.0,870.0,377 days,377\\n323,339,2013-08-29,378,13,1,-78.0,869.0,378 days,378\\n324,341,2013-08-30,379,14,1,-79.0,870.0,379 days,379\\n325,343,2013-08-31,380,14,1,-79.0,870.0,380 days,380\\n326,345,2013-09-01,381,15,1,-79.0,871.0,381 days,381\\n327,344,2013-09-02,382,15,1,-76.0,872.0,382 days,382\\n328,342,2013-09-03,383,16,1,-77.0,874.0,383 days,383\\n329,346,2013-09-04,384,16,1,-77.0,875.0,384 days,384\\n330,351,2013-09-05,385,17,1,-78.0,874.0,385 days,385\\n331,347,2013-09-06,386,17,1,-77.0,873.0,386 days,386\\n332,349,2013-09-07,387,18,1,-78.0,874.0,387 days,387\\n333,350,2013-09-08,388,18,1,-79.0,875.0,388 days,388\\n334,348,2013-09-09,389,19,1,-79.0,875.0,389 days,389\\n335,352,2013-09-10,390,19,1,-78.0,875.0,390 days,390\\n336,353,2013-09-11,391,20,1,-78.0,875.0,391 days,391\\n337,354,2013-09-12,392,20,1,-77.0,876.0,392 days,392\\n338,355,2013-09-13,393,21,1,-76.0,877.0,393 days,393\\n339,356,2013-09-14,394,21,1,-79.0,878.0,394 days,394\\n340,357,2013-09-15,395,22,1,-77.0,878.0,395 days,395\\n341,358,2013-09-16,396,22,1,-78.0,879.0,396 days,396\\n342,359,2013-09-18,397,23,1,-75.0,880.0,398 days,398\\n343,360,2013-09-19,398,23,1,-79.0,880.0,399 days,399\\n344,361,2013-09-20,399,24,1,-79.0,881.0,400 days,400\\n345,363,2013-09-21,400,24,1,-79.0,881.0,401 days,401\\n346,362,2013-09-22,401,25,1,-79.0,882.0,402 days,402\\n347,365,2013-09-23,402,25,1,-78.0,883.0,403 days,403\\n348,364,2013-09-24,403,25,1,-80.0,883.0,404 days,404\\n349,367,2013-09-25,404,26,1,-78.0,884.0,405 days,405\\n350,366,2013-09-26,405,26,1,-82.0,885.0,406 days,406\\n351,374,2013-09-27,406,27,1,-81.0,886.0,407 days,407\\n352,370,2013-09-28,407,27,1,-81.0,887.0,408 days,408\\n353,369,2013-09-29,408,28,1,-80.0,887.0,409 days,409\\n354,368,2013-09-30,409,28,1,-81.0,887.0,410 days,410\\n355,373,2013-10-01,410,29,1,-81.0,888.0,411 days,411\\n356,372,2013-10-02,411,29,1,-82.0,887.0,412 days,412\\n357,371,2013-10-03,412,30,2,-80.0,888.0,413 days,413\\n358,376,2013-10-04,413,30,2,-82.0,888.0,414 days,414\\n359,375,2013-10-05,414,31,2,-79.0,889.0,415 days,415\\n360,377,2013-10-06,415,31,2,-82.0,890.0,416 days,416\\n361,378,2013-10-07,416,32,2,-79.0,889.0,417 days,417\\n362,379,2013-10-08,417,32,2,-82.0,890.0,418 days,418\\n363,380,2013-10-09,418,33,2,-79.0,891.0,419 days,419\\n364,381,2013-10-10,419,33,2,-82.0,891.0,420 days,420\\n365,385,2013-10-11,420,33,2,-80.0,892.0,421 days,421\\n366,382,2013-10-12,421,34,2,-81.0,890.0,422 days,422\\n367,384,2013-10-13,422,34,2,-82.0,891.0,423 days,423\\n368,383,2013-10-14,423,35,2,-81.0,892.0,424 days,424\\n369,386,2013-10-15,424,35,2,-81.0,893.0,425 days,425\\n370,393,2013-10-16,425,36,2,-81.0,893.0,426 days,426\\n371,388,2013-10-17,426,36,2,-79.0,893.0,427 days,427\\n372,392,2013-10-18,427,37,2,-81.0,893.0,428 days,428\\n373,391,2013-10-19,428,37,2,-81.0,894.0,429 days,429\\n374,387,2013-10-20,429,38,2,-82.0,895.0,430 days,430\\n375,390,2013-10-21,430,38,2,-82.0,896.0,431 days,431\\n376,389,2013-10-22,431,39,2,-83.0,895.0,432 days,432\\n377,395,2013-10-23,432,39,2,-80.0,896.0,433 days,433\\n378,394,2013-10-24,433,40,2,-81.0,895.0,434 days,434\\n379,397,2013-10-26,434,40,2,-80.0,896.0,436 days,436\\n380,396,2013-10-27,435,40,2,-81.0,896.0,437 days,437\\n381,398,2013-10-28,436,41,2,-81.0,897.0,438 days,438\\n382,399,2013-10-29,437,41,2,-82.0,898.0,439 days,439\\n383,400,2013-10-30,438,42,2,-79.0,899.0,440 days,440\\n384,401,2013-10-31,439,42,2,-80.0,899.0,441 days,441\\n385,404,2013-11-01,440,43,2,-80.0,899.0,442 days,442\\n386,402,2013-11-02,441,43,2,-81.0,900.0,443 days,443\\n387,405,2013-11-03,442,44,2,-80.0,900.0,444 days,444\\n388,403,2013-11-04,443,44,2,-81.0,901.0,445 days,445\\n389,407,2013-11-16,455,50,2,-84.0,905.0,457 days,457\\n390,406,2013-11-17,456,50,2,-83.0,905.0,458 days,458\\n391,409,2013-11-24,463,53,2,-86.0,906.0,465 days,465\\n392,410,2013-11-25,464,54,2,-84.0,906.0,466 days,466\\n393,412,2013-11-26,465,54,2,-85.0,906.0,467 days,467\\n394,415,2013-11-27,466,55,2,-85.0,907.0,468 days,468\\n395,411,2013-11-28,467,55,2,-84.0,907.0,469 days,469\\n396,414,2013-11-29,468,55,2,-85.0,907.0,470 days,470\\n397,413,2013-11-30,469,56,2,-85.0,908.0,471 days,471\\n398,475,2013-12-02,470,56,2,-85.0,907.0,473 days,473\\n399,479,2013-12-03,471,57,2,-84.0,906.0,474 days,474\\n400,416,2013-12-04,472,57,2,-84.0,907.0,475 days,475\\n401,417,2013-12-05,473,58,2,-86.0,907.0,476 days,476\\n402,420,2013-12-06,474,58,2,-84.0,906.0,477 days,477\\n403,419,2013-12-07,475,59,2,-85.0,906.0,478 days,478\\n404,418,2013-12-08,476,59,2,-85.0,906.0,479 days,479\\n405,421,2013-12-09,477,60,3,-85.0,907.0,480 days,480\\n406,422,2013-12-18,486,64,3,-84.0,904.0,489 days,489\\n407,473,2013-12-19,487,64,3,-85.0,904.0,490 days,490\\n408,480,2013-12-20,488,64,3,-87.0,903.0,491 days,491\\n409,423,2013-12-21,489,65,3,-85.0,904.0,492 days,492\\n410,434,2013-12-22,490,65,3,-87.0,903.0,493 days,493\\n411,433,2013-12-23,491,66,3,-86.0,903.0,494 days,494\\n412,427,2013-12-24,492,66,3,-86.0,903.0,495 days,495\\n413,426,2013-12-25,493,67,3,-84.0,902.0,496 days,496\\n414,429,2013-12-26,494,67,3,-85.0,902.0,497 days,497\\n415,431,2013-12-27,495,68,3,-86.0,900.0,498 days,498\\n416,428,2013-12-28,496,68,3,-85.0,901.0,499 days,499\\n417,425,2013-12-29,497,69,3,-86.0,901.0,500 days,500\\n418,424,2013-12-30,498,69,3,-86.0,901.0,501 days,501\\n419,432,2013-12-31,499,69,3,-84.0,899.0,502 days,502\\n420,430,2014-01-01,500,70,3,-85.0,897.0,503 days,503\\n421,435,2014-01-02,501,70,3,-86.0,898.0,504 days,504\\n422,437,2014-01-03,502,71,3,-87.0,898.0,505 days,505\\n423,483,2014-01-04,503,71,3,-86.0,897.0,506 days,506\\n424,436,2014-01-05,504,72,3,-85.0,895.0,507 days,507\\n425,438,2014-01-06,505,72,3,-85.0,895.0,508 days,508\\n426,439,2014-01-08,506,73,3,-86.0,894.0,510 days,510\\n427,440,2014-01-09,507,73,3,-85.0,894.0,511 days,511\\n428,442,2014-01-10,508,73,3,-83.0,893.0,512 days,512\\n429,443,2014-01-11,509,74,3,-86.0,895.0,513 days,513\\n430,441,2014-01-12,510,74,3,-85.0,892.0,514 days,514\\n431,446,2014-01-13,511,75,3,-85.0,892.0,515 days,515\\n432,444,2014-01-14,512,75,3,-86.0,890.0,516 days,516\\n433,445,2014-01-15,513,76,3,-86.0,889.0,517 days,517\\n434,447,2014-01-16,514,76,3,-86.0,888.0,518 days,518\\n435,450,2014-01-17,515,77,3,-86.0,888.0,519 days,519\\n436,449,2014-01-18,516,77,3,-86.0,888.0,520 days,520\\n437,448,2014-01-19,517,77,3,-86.0,885.0,521 days,521\\n438,451,2014-01-20,518,78,3,-85.0,885.0,522 days,522\\n439,452,2014-01-21,519,78,3,-86.0,884.0,523 days,523\\n440,453,2014-01-22,520,79,3,-86.0,884.0,524 days,524\\n441,454,2014-01-23,521,79,3,-87.0,882.0,525 days,525\\n442,455,2014-01-24,522,80,3,-85.0,881.0,526 days,526\\n443,458,2014-01-25,523,80,3,-85.0,881.0,527 days,527\\n444,457,2014-01-26,524,81,3,-85.0,880.0,528 days,528\\n445,456,2014-01-27,525,81,3,-87.0,878.0,529 days,529\\n446,459,2014-01-28,526,82,3,-87.0,878.0,530 days,530\\n447,460,2014-01-29,527,82,3,-86.0,877.0,531 days,531\\n448,461,2014-01-30,528,82,3,-86.0,876.0,532 days,532\\n449,462,2014-01-31,529,83,3,-87.0,875.0,533 days,533\\n450,463,2014-02-01,530,83,3,-87.0,873.0,534 days,534\\n451,465,2014-02-02,531,84,3,-87.0,872.0,535 days,535\\n452,464,2014-02-03,532,84,3,-88.0,872.0,536 days,536\\n453,466,2014-02-04,533,85,3,-87.0,871.0,537 days,537\\n454,467,2014-02-05,534,85,3,-86.0,869.0,538 days,538\\n455,468,2014-02-06,535,86,3,-88.0,868.0,539 days,539\\n456,470,2014-02-07,536,86,3,-83.0,867.0,540 days,540\\n457,469,2014-02-08,537,86,3,-83.0,865.0,541 days,541\\n458,472,2014-02-09,538,87,3,-85.0,865.0,542 days,542\\n459,476,2014-02-10,539,87,3,-85.0,864.0,543 days,543\\n460,481,2014-02-11,540,88,3,-84.0,862.0,544 days,544\\n461,482,2014-02-12,541,88,3,-84.0,861.0,545 days,545\\n462,477,2014-02-13,542,89,3,-85.0,859.0,546 days,546\\n463,486,2014-02-15,543,89,3,-84.0,858.0,548 days,548\\n464,487,2014-02-16,544,90,4,-86.0,857.0,549 days,549\\n465,490,2014-02-17,545,90,4,-85.0,856.0,550 days,550\\n466,489,2014-02-18,546,91,4,-85.0,855.0,551 days,551\\n467,488,2014-02-19,547,91,4,-85.0,853.0,552 days,552\\n468,491,2014-02-20,548,91,4,-86.0,852.0,553 days,553\\n469,492,2014-02-21,549,92,4,-87.0,851.0,554 days,554\\n470,494,2014-02-22,550,92,4,-85.0,850.0,555 days,555\\n471,495,2014-02-23,551,93,4,-85.0,848.0,556 days,556\\n472,493,2014-02-24,552,93,4,-86.0,847.0,557 days,557\\n473,496,2014-02-25,553,94,4,-84.0,845.0,558 days,558\\n474,497,2014-02-26,554,94,4,-84.0,843.0,559 days,559\\n475,499,2014-02-27,555,95,4,-85.0,843.0,560 days,560\\n476,501,2014-02-28,556,95,4,-85.0,842.0,561 days,561\\n477,498,2014-03-01,557,96,4,-85.0,840.0,562 days,562\\n478,500,2014-03-02,558,96,4,-85.0,839.0,563 days,563\\n479,502,2014-03-03,559,96,4,-85.0,838.0,564 days,564\\n480,503,2014-03-04,560,97,4,-86.0,836.0,565 days,565\\n481,504,2014-03-05,561,97,4,-85.0,835.0,566 days,566\\n482,506,2014-03-06,562,98,4,-85.0,834.0,567 days,567\\n483,505,2014-03-07,563,98,4,-87.0,833.0,568 days,568\\n484,509,2014-03-08,564,99,4,-86.0,831.0,569 days,569\\n485,508,2014-03-09,565,99,4,-85.0,830.0,570 days,570\\n486,507,2014-03-10,566,100,4,-86.0,829.0,571 days,571\\n487,510,2014-03-11,567,100,4,-86.0,827.0,572 days,572\\n488,511,2014-03-12,568,101,4,-86.0,825.0,573 days,573\\n489,512,2014-03-13,569,101,4,-85.0,825.0,574 days,574\\n490,513,2014-03-14,570,102,4,-84.0,823.0,575 days,575\\n491,515,2014-03-15,571,102,4,-84.0,821.0,576 days,576\\n492,514,2014-03-16,572,102,4,-85.0,820.0,577 days,577\\n493,516,2014-03-17,573,103,4,-84.0,819.0,578 days,578\\n494,517,2014-03-18,574,103,4,-85.0,817.0,579 days,579\\n495,518,2014-03-19,575,104,4,-82.0,816.0,580 days,580\\n496,520,2014-03-20,576,104,4,-84.0,815.0,581 days,581\\n497,519,2014-03-21,577,105,4,-84.0,813.0,582 days,582\\n498,521,2014-03-22,578,105,4,-83.0,812.0,583 days,583\\n499,522,2014-03-24,579,106,4,-82.0,811.0,585 days,585\\n500,523,2014-03-25,580,106,4,-83.0,810.0,586 days,586\\n501,524,2014-03-26,581,107,4,-84.0,808.0,587 days,587\\n502,525,2014-03-27,582,107,4,-84.0,807.0,588 days,588\\n503,526,2014-03-28,583,108,4,-82.0,806.0,589 days,589\\n504,528,2014-03-29,584,108,4,-82.0,804.0,590 days,590\\n505,527,2014-03-30,585,109,4,-83.0,802.0,591 days,591\\n506,529,2014-03-31,586,109,4,-82.0,802.0,592 days,592\\n507,530,2014-04-01,587,109,4,-85.0,801.0,593 days,593\\n508,532,2014-04-02,588,110,4,-84.0,799.0,594 days,594\\n509,531,2014-04-03,589,110,4,-85.0,798.0,595 days,595\\n510,535,2014-04-04,590,111,4,-82.0,797.0,596 days,596\\n511,533,2014-04-05,591,111,4,-82.0,795.0,597 days,597\\n512,534,2014-04-06,592,112,4,-83.0,795.0,598 days,598\\n513,536,2014-04-07,593,112,4,-83.0,795.0,599 days,599\\n514,537,2014-04-08,594,113,4,-83.0,793.0,600 days,600\\n515,538,2014-04-09,595,113,4,-83.0,792.0,601 days,601\\n516,539,2014-04-10,596,114,4,-82.0,791.0,602 days,602\\n517,540,2014-04-11,597,114,4,-84.0,790.0,603 days,603\\n518,542,2014-04-12,598,115,4,-84.0,787.0,604 days,604\\n519,543,2014-04-13,599,115,4,-84.0,788.0,605 days,605\\n520,541,2014-04-14,600,116,4,-81.0,787.0,606 days,606\\n521,544,2014-04-15,601,116,4,-82.0,785.0,607 days,607\\n522,545,2014-04-16,602,117,4,-82.0,784.0,608 days,608\\n523,548,2014-04-17,603,117,4,-83.0,783.0,609 days,609\\n524,546,2014-04-18,604,118,4,-84.0,782.0,610 days,610\\n525,547,2014-04-19,605,118,4,-83.0,781.0,611 days,611\\n526,549,2014-04-20,606,118,4,-84.0,780.0,612 days,612\\n527,550,2014-04-21,607,119,4,-83.0,779.0,613 days,613\\n528,551,2014-04-22,608,119,4,-85.0,777.0,614 days,614\\n529,552,2014-04-23,609,120,5,-84.0,777.0,615 days,615\\n530,554,2014-04-24,610,120,5,-85.0,776.0,616 days,616\\n531,555,2014-04-25,611,121,5,-84.0,775.0,617 days,617\\n532,553,2014-04-26,612,121,5,-85.0,774.0,618 days,618\\n533,556,2014-04-27,613,122,5,-84.0,773.0,619 days,619\\n534,557,2014-04-28,614,122,5,-82.0,772.0,620 days,620\\n535,558,2014-04-29,615,123,5,-83.0,771.0,621 days,621\\n536,559,2014-05-01,616,123,5,-82.0,769.0,623 days,623\\n537,561,2014-05-02,617,124,5,-84.0,769.0,624 days,624\\n538,562,2014-05-03,618,124,5,-83.0,769.0,625 days,625\\n539,560,2014-05-04,619,125,5,-82.0,766.0,626 days,626\\n540,563,2014-05-05,620,125,5,-83.0,765.0,627 days,627\\n541,564,2014-05-06,621,126,5,-82.0,765.0,628 days,628\\n542,565,2014-05-07,622,126,5,-84.0,763.0,629 days,629\\n543,566,2014-05-08,623,127,5,-83.0,763.0,630 days,630\\n544,568,2014-05-09,624,127,5,-82.0,762.0,631 days,631\\n545,569,2014-05-10,625,128,5,-81.0,761.0,632 days,632\\n546,567,2014-05-11,626,128,5,-82.0,760.0,633 days,633\\n547,570,2014-05-12,627,129,5,-82.0,759.0,634 days,634\\n548,571,2014-05-13,628,129,5,-81.0,759.0,635 days,635\\n549,572,2014-05-14,629,130,5,-84.0,759.0,636 days,636\\n550,573,2014-05-15,630,130,5,-82.0,757.0,637 days,637\\n551,576,2014-05-16,631,131,5,-81.0,756.0,638 days,638\\n552,575,2014-05-17,632,131,5,-79.0,755.0,639 days,639\\n553,574,2014-05-18,633,132,5,-81.0,754.0,640 days,640\\n554,577,2014-05-19,634,132,5,-82.0,753.0,641 days,641\\n555,578,2014-05-20,635,133,5,-82.0,754.0,642 days,642\\n556,582,2014-05-21,636,133,5,-81.0,752.0,643 days,643\\n557,580,2014-05-22,637,134,5,-80.0,752.0,644 days,644\\n558,579,2014-05-23,638,134,5,-80.0,751.0,645 days,645\\n559,581,2014-05-24,639,135,5,-80.0,750.0,646 days,646\\n560,583,2014-05-25,640,135,5,-81.0,750.0,647 days,647\\n561,584,2014-05-26,641,136,5,-81.0,749.0,648 days,648\\n562,585,2014-05-27,642,136,5,-80.0,749.0,649 days,649\\n563,586,2014-05-28,643,137,5,-80.0,748.0,650 days,650\\n564,588,2014-05-29,644,137,5,-80.0,748.0,651 days,651\\n565,589,2014-05-30,645,138,5,-81.0,746.0,652 days,652\\n566,587,2014-05-31,646,138,5,-81.0,746.0,653 days,653\\n567,590,2014-06-01,647,139,5,-79.0,746.0,654 days,654\\n568,591,2014-06-02,648,139,5,-80.0,746.0,655 days,655\\n569,592,2014-06-03,649,140,5,-79.0,745.0,656 days,656\\n570,593,2014-06-04,650,140,5,-80.0,743.0,657 days,657\\n571,595,2014-06-05,651,141,5,-80.0,743.0,658 days,658\\n572,594,2014-06-07,652,141,5,-79.0,745.0,660 days,660\\n573,596,2014-06-08,653,142,5,-80.0,744.0,661 days,661\\n574,597,2014-06-09,654,142,5,-79.0,742.0,662 days,662\\n575,598,2014-06-10,655,143,5,-77.0,741.0,663 days,663\\n576,599,2014-06-11,656,143,5,-80.0,740.0,664 days,664\\n577,600,2014-06-12,657,144,5,-79.0,739.0,665 days,665\\n578,602,2014-06-13,658,144,5,-79.0,739.0,666 days,666\\n579,603,2014-06-14,659,145,5,-77.0,738.0,667 days,667\\n580,601,2014-06-15,660,145,5,-78.0,735.0,668 days,668\\n581,604,2014-06-16,661,146,5,-76.0,735.0,669 days,669\\n582,605,2014-06-17,662,146,5,-77.0,735.0,670 days,670\\n583,609,2014-06-18,663,147,5,-77.0,734.0,671 days,671\\n584,607,2014-06-19,664,147,5,-78.0,732.0,672 days,672\\n585,610,2014-06-20,665,148,5,-78.0,735.0,673 days,673\\n586,608,2014-06-21,666,148,5,-77.0,736.0,674 days,674\\n587,606,2014-06-22,667,149,5,-76.0,736.0,675 days,675\\n588,611,2014-06-23,668,150,6,-75.0,734.0,676 days,676\\n589,613,2014-06-24,669,150,6,-84.0,735.0,677 days,677\\n590,612,2014-06-25,670,151,6,-79.0,737.0,678 days,678\\n591,614,2014-06-26,671,151,6,-79.0,740.0,679 days,679\\n592,615,2014-06-27,672,152,6,-78.0,739.0,680 days,680\\n593,616,2014-06-28,673,152,6,-78.0,738.0,681 days,681\\n594,617,2014-06-29,674,153,6,-80.0,739.0,682 days,682\\n595,618,2014-06-30,675,153,6,-80.0,740.0,683 days,683\\n596,619,2014-07-01,676,154,6,-80.0,738.0,684 days,684\\n597,622,2014-07-02,677,154,6,-78.0,737.0,685 days,685\\n598,621,2014-07-03,678,155,6,-77.0,739.0,686 days,686\\n599,624,2014-07-04,679,155,6,-77.0,738.0,687 days,687\\n600,620,2014-07-05,680,156,6,-76.0,740.0,688 days,688\\n601,623,2014-07-06,681,156,6,-79.0,738.0,689 days,689\\n602,625,2014-07-07,682,157,6,-77.0,739.0,690 days,690\\n603,626,2014-07-08,683,158,6,-79.0,741.0,691 days,691\\n604,627,2014-07-09,684,158,6,-75.0,741.0,692 days,692\\n605,628,2014-07-10,685,159,6,-77.0,740.0,693 days,693\\n606,629,2014-07-11,686,159,6,-76.0,738.0,694 days,694\\n607,630,2014-07-12,687,160,6,-77.0,739.0,695 days,695\\n608,631,2014-07-14,688,160,6,-77.0,741.0,697 days,697\\n609,632,2014-07-15,689,161,6,-76.0,742.0,698 days,698\\n610,633,2014-07-16,690,161,6,-77.0,741.0,699 days,699\\n611,634,2014-07-17,691,162,6,-76.0,741.0,700 days,700\\n612,637,2014-07-18,692,162,6,-76.0,742.0,701 days,701\\n613,636,2014-07-19,693,163,6,-76.0,741.0,702 days,702\\n614,635,2014-07-20,694,164,6,-75.0,740.0,703 days,703\\n615,638,2014-07-21,695,164,6,-76.0,741.0,704 days,704\\n616,639,2014-07-22,696,165,6,-75.0,743.0,705 days,705\\n617,640,2014-07-23,697,165,6,-74.0,743.0,706 days,706\\n618,641,2014-07-24,698,166,6,-77.0,743.0,707 days,707\\n619,642,2014-07-25,699,166,6,-76.0,744.0,708 days,708\\n620,643,2014-07-26,700,167,6,-75.0,745.0,709 days,709\\n621,644,2014-07-27,701,167,6,-77.0,745.0,710 days,710\\n622,645,2014-07-28,702,168,6,-76.0,745.0,711 days,711\\n623,646,2014-07-29,703,169,6,-75.0,747.0,712 days,712\\n624,647,2014-07-30,704,169,6,-75.0,747.0,713 days,713\\n625,648,2014-07-31,705,170,6,-76.0,746.0,714 days,714\\n626,650,2014-08-01,706,170,6,-76.0,748.0,715 days,715\\n627,651,2014-08-02,707,171,6,-76.0,749.0,716 days,716\\n628,649,2014-08-03,708,171,6,-76.0,749.0,717 days,717\\n629,652,2014-08-04,709,172,6,-73.0,750.0,718 days,718\\n630,653,2014-08-05,710,172,6,-77.0,751.0,719 days,719\\n631,654,2014-08-06,711,173,6,-75.0,751.0,720 days,720\\n632,658,2014-08-07,712,174,6,-77.0,752.0,721 days,721\\n633,656,2014-08-08,713,174,6,-76.0,754.0,722 days,722\\n634,655,2014-08-09,714,175,6,-76.0,754.0,723 days,723\\n635,657,2014-08-10,715,175,6,-73.0,755.0,724 days,724\\n636,659,2014-08-11,716,176,6,-75.0,755.0,725 days,725\\n637,661,2014-08-12,717,176,6,-76.0,756.0,726 days,726\\n638,660,2014-08-13,718,177,6,-77.0,757.0,727 days,727\\n639,662,2014-08-14,719,178,6,-77.0,758.0,728 days,728\\n640,663,2014-08-15,720,178,6,-74.0,760.0,729 days,729\\n641,664,2014-08-16,721,179,6,-73.0,761.0,730 days,730\\n642,665,2014-08-17,722,179,6,-74.0,760.0,731 days,731\\n643,666,2014-08-18,723,180,7,-73.0,761.0,732 days,732\\n644,667,2014-08-19,724,181,7,-74.0,763.0,733 days,733\\n645,669,2014-08-21,725,181,7,-73.0,764.0,735 days,735\\n646,668,2014-08-22,726,182,7,-75.0,766.0,736 days,736\\n647,671,2014-08-23,727,182,7,-76.0,766.0,737 days,737\\n648,670,2014-08-24,728,183,7,-74.0,766.0,738 days,738\\n649,672,2014-08-25,729,183,7,-75.0,768.0,739 days,739\\n650,676,2014-08-26,730,184,7,-76.0,770.0,740 days,740\\n651,673,2014-08-27,731,185,7,-75.0,771.0,741 days,741\\n652,677,2014-08-28,732,185,7,-75.0,773.0,742 days,742\\n653,674,2014-08-29,733,186,7,-74.0,773.0,743 days,743\\n654,675,2014-08-30,734,186,7,-73.0,776.0,744 days,744\\n655,678,2014-08-31,735,187,7,-73.0,776.0,745 days,745\\n656,679,2014-09-01,736,188,7,-76.0,776.0,746 days,746\\n657,680,2014-09-02,737,188,7,-74.0,777.0,747 days,747\\n658,681,2014-09-03,738,189,7,-75.0,778.0,748 days,748\\n659,682,2014-09-04,739,189,7,-77.0,779.0,749 days,749\\n660,685,2014-09-05,740,190,7,-76.0,782.0,750 days,750\\n661,683,2014-09-06,741,191,7,-70.0,784.0,751 days,751\\n662,684,2014-09-07,742,191,7,-72.0,784.0,752 days,752\\n663,686,2014-09-08,743,192,7,-72.0,786.0,753 days,753\\n664,687,2014-09-09,744,192,7,-75.0,786.0,754 days,754\\n665,689,2014-09-10,745,193,7,-74.0,787.0,755 days,755\\n666,688,2014-09-11,746,194,7,-76.0,788.0,756 days,756\\n667,691,2014-09-12,747,194,7,-73.0,789.0,757 days,757\\n668,690,2014-09-13,748,195,7,-71.0,791.0,758 days,758\\n669,692,2014-09-14,749,195,7,-73.0,794.0,759 days,759\\n670,693,2014-09-15,750,196,7,-72.0,796.0,760 days,760\\n671,695,2014-09-16,751,197,7,-72.0,797.0,761 days,761\\n672,694,2014-09-17,752,197,7,-71.0,798.0,762 days,762\\n673,698,2014-09-18,753,198,7,-73.0,800.0,763 days,763\\n674,696,2014-09-19,754,198,7,-73.0,802.0,764 days,764\\n675,697,2014-09-20,755,199,7,-74.0,806.0,765 days,765\\n676,699,2014-09-21,756,200,7,-73.0,806.0,766 days,766\\n677,700,2014-09-22,757,200,7,-73.0,807.0,767 days,767\\n678,701,2014-09-23,758,201,7,-71.0,810.0,768 days,768\\n679,702,2014-09-24,759,201,7,-77.0,809.0,769 days,769\\n680,704,2014-09-25,760,202,7,-70.0,810.0,770 days,770\\n681,705,2014-09-27,761,203,7,-72.0,814.0,772 days,772\\n682,703,2014-09-28,762,203,7,-75.0,814.0,773 days,773\\n683,706,2014-09-29,763,204,7,-78.0,817.0,774 days,774\\n684,707,2014-09-30,764,205,7,-73.0,821.0,775 days,775\\n685,708,2014-10-01,765,205,7,-73.0,820.0,776 days,776\\n686,709,2014-10-02,766,206,7,-70.0,824.0,777 days,777\\n687,710,2014-10-03,767,206,7,-71.0,824.0,778 days,778\\n688,712,2014-10-04,768,207,7,-73.0,826.0,779 days,779\\n689,711,2014-10-05,769,208,7,-73.0,829.0,780 days,780\\n690,713,2014-10-06,770,208,7,-70.0,829.0,781 days,781\\n691,714,2014-10-07,771,209,7,-71.0,836.0,782 days,782\\n692,715,2014-10-08,772,210,8,-71.0,835.0,783 days,783\\n693,716,2014-10-09,773,210,8,-70.0,838.0,784 days,784\\n694,719,2014-10-10,774,211,8,-73.0,838.0,785 days,785\\n695,717,2014-10-11,775,211,8,-71.0,838.0,786 days,786\\n696,718,2014-10-12,776,212,8,-72.0,841.0,787 days,787\\n697,720,2014-10-13,777,213,8,-72.0,841.0,788 days,788\\n698,721,2014-10-14,778,213,8,-70.0,846.0,789 days,789\\n699,722,2014-10-15,779,214,8,-71.0,845.0,790 days,790\\n700,723,2014-10-16,780,215,8,-72.0,852.0,791 days,791\\n701,725,2014-10-17,781,215,8,-74.0,849.0,792 days,792\\n702,724,2014-10-18,782,216,8,-71.0,854.0,793 days,793\\n703,727,2014-10-19,783,216,8,-69.0,853.0,794 days,794\\n704,726,2014-10-20,784,217,8,-69.0,857.0,795 days,795\\n705,728,2014-10-21,785,218,8,-74.0,858.0,796 days,796\\n706,729,2014-10-22,786,218,8,-74.0,861.0,797 days,797\\n707,732,2014-10-23,787,219,8,-73.0,860.0,798 days,798\\n708,731,2014-10-24,788,220,8,-68.0,862.0,799 days,799\\n709,730,2014-10-25,789,220,8,-68.0,862.0,800 days,800\\n710,733,2014-10-26,790,221,8,-68.0,864.0,801 days,801\\n711,734,2014-10-27,791,222,8,-70.0,867.0,802 days,802\\n712,735,2014-10-28,792,222,8,-71.0,873.0,803 days,803\\n713,736,2014-10-29,793,223,8,-71.0,877.0,804 days,804\\n714,739,2014-10-30,794,223,8,-68.0,874.0,805 days,805\\n715,738,2014-10-31,795,224,8,-68.0,875.0,806 days,806\\n716,737,2014-11-01,796,225,8,-65.0,877.0,807 days,807\\n717,740,2014-11-03,797,225,8,-65.0,879.0,809 days,809\\n718,741,2014-11-04,798,226,8,-67.0,883.0,810 days,810\\n719,743,2014-11-05,799,227,8,-70.0,884.0,811 days,811\\n720,742,2014-11-06,800,227,8,-67.0,884.0,812 days,812\\n721,746,2014-11-07,801,228,8,-70.0,884.0,813 days,813\\n722,745,2014-11-08,802,229,8,-69.0,887.0,814 days,814\\n723,744,2014-11-09,803,229,8,-69.0,888.0,815 days,815\\n724,747,2014-11-10,804,230,8,-73.0,891.0,816 days,816\\n725,748,2014-11-11,805,231,8,-70.0,893.0,817 days,817\\n726,750,2014-11-12,806,231,8,-69.0,893.0,818 days,818\\n727,749,2014-11-13,807,232,8,-71.0,892.0,819 days,819\\n728,752,2014-11-14,808,232,8,-67.0,893.0,820 days,820\\n729,753,2014-11-15,809,233,8,-70.0,895.0,821 days,821\\n730,751,2014-11-16,810,234,8,-69.0,897.0,822 days,822\\n731,754,2014-11-17,811,234,8,-71.0,900.0,823 days,823\\n732,755,2014-11-18,812,235,8,-75.0,902.0,824 days,824\\n733,756,2014-11-19,813,236,8,-67.0,904.0,825 days,825\\n734,757,2014-11-20,814,236,8,-68.0,902.0,826 days,826\\n735,759,2014-11-21,815,237,8,-69.0,905.0,827 days,827\\n736,758,2014-11-22,816,238,8,-74.0,909.0,828 days,828\\n737,761,2014-11-23,817,238,8,-69.0,913.0,829 days,829\\n738,760,2014-11-24,818,239,8,-68.0,914.0,830 days,830\\n739,763,2014-11-25,819,240,9,-71.0,913.0,831 days,831\\n740,765,2014-11-26,820,240,9,-68.0,910.0,832 days,832\\n741,762,2014-11-27,821,241,9,-68.0,910.0,833 days,833\\n742,764,2014-11-28,822,242,9,-71.0,911.0,834 days,834\\n743,766,2014-11-29,823,242,9,-69.0,912.0,835 days,835\\n744,768,2014-11-30,824,243,9,-67.0,914.0,836 days,836\\n745,767,2014-12-01,825,243,9,-67.0,914.0,837 days,837\\n746,770,2014-12-02,826,244,9,-68.0,914.0,838 days,838\\n747,769,2014-12-03,827,245,9,-68.0,911.0,839 days,839\\n748,771,2014-12-04,828,245,9,-71.0,914.0,840 days,840\\n749,773,2014-12-05,829,246,9,-71.0,914.0,841 days,841\\n750,772,2014-12-06,830,247,9,-68.0,918.0,842 days,842\\n751,774,2014-12-07,831,247,9,-68.0,920.0,843 days,843\\n752,775,2014-12-08,832,248,9,-68.0,924.0,844 days,844\\n753,776,2014-12-09,833,249,9,-69.0,923.0,845 days,845\\n754,777,2014-12-11,834,249,9,-68.0,918.0,847 days,847\\n755,780,2014-12-12,835,250,9,-69.0,917.0,848 days,848\\n756,778,2014-12-13,836,251,9,-69.0,916.0,849 days,849\\n757,779,2014-12-14,837,251,9,-69.0,916.0,850 days,850\\n758,782,2014-12-15,838,252,9,-69.0,917.0,851 days,851\\n759,781,2014-12-16,839,253,9,-70.0,917.0,852 days,852\\n760,783,2014-12-17,840,253,9,-74.0,913.0,853 days,853\\n761,784,2014-12-18,841,254,9,-75.0,914.0,854 days,854\\n762,790,2014-12-19,842,255,9,-69.0,914.0,855 days,855\\n763,793,2014-12-20,843,255,9,-69.0,916.0,856 days,856\\n764,788,2014-12-21,844,256,9,-68.0,917.0,857 days,857\\n765,786,2014-12-22,845,257,9,-73.0,920.0,858 days,858\\n766,785,2014-12-23,846,257,9,-74.0,925.0,859 days,859\\n767,791,2014-12-24,847,258,9,-69.0,918.0,860 days,860\\n768,792,2014-12-25,848,258,9,-69.0,918.0,861 days,861\\n769,787,2014-12-26,849,259,9,-69.0,918.0,862 days,862\\n770,789,2014-12-27,850,260,9,-68.0,918.0,863 days,863\\n771,794,2014-12-28,851,260,9,-68.0,919.0,864 days,864\\n772,797,2014-12-29,852,261,9,-73.0,916.0,865 days,865\\n773,796,2014-12-30,853,262,9,-67.0,913.0,866 days,866\\n774,798,2014-12-31,854,262,9,-66.0,910.0,867 days,867\\n775,799,2015-01-01,855,263,9,-69.0,912.0,868 days,868\\n776,795,2015-01-02,856,264,9,-68.0,912.0,869 days,869\\n777,801,2015-01-03,857,264,9,-76.0,911.0,870 days,870\\n778,800,2015-01-04,858,265,9,-73.0,913.0,871 days,871\\n779,802,2015-01-05,859,266,9,-72.0,915.0,872 days,872\\n780,803,2015-01-06,860,266,9,-69.0,916.0,873 days,873\\n781,804,2015-01-07,861,267,9,-70.0,917.0,874 days,874\\n782,807,2015-01-08,862,268,9,-70.0,917.0,875 days,875\\n783,805,2015-01-09,863,268,9,-72.0,916.0,876 days,876\\n784,806,2015-01-10,864,269,9,-70.0,914.0,877 days,877\\n785,808,2015-01-11,865,270,10,-70.0,913.0,878 days,878\\n786,809,2015-01-12,866,270,10,-71.0,911.0,879 days,879\\n787,810,2015-01-13,867,271,10,-71.0,910.0,880 days,880\\n788,811,2015-01-14,868,271,10,-71.0,908.0,881 days,881\\n789,812,2015-01-15,869,272,10,-72.0,906.0,882 days,882\\n790,813,2015-01-17,870,273,10,-74.0,909.0,884 days,884\\n791,814,2015-01-18,871,273,10,-70.0,903.0,885 days,885\\n792,815,2015-01-19,872,274,10,-72.0,902.0,886 days,886\\n793,817,2015-01-28,881,280,10,-73.0,899.0,895 days,895\\n794,818,2015-01-29,882,280,10,-76.0,901.0,896 days,896\\n795,820,2015-01-30,883,281,10,-74.0,897.0,897 days,897\\n796,821,2015-01-31,884,282,10,-71.0,897.0,898 days,898\\n797,819,2015-02-01,885,282,10,-71.0,895.0,899 days,899\\n798,823,2015-02-02,886,283,10,-73.0,894.0,900 days,900\\n799,822,2015-02-03,887,284,10,-73.0,897.0,901 days,901\\n800,824,2015-02-04,888,284,10,-70.0,896.0,902 days,902\\n801,825,2015-02-05,889,285,10,-70.0,895.0,903 days,903\\n802,826,2015-02-06,890,286,10,-72.0,892.0,904 days,904\\n803,827,2015-02-07,891,286,10,-72.0,892.0,905 days,905\\n804,828,2015-02-08,892,287,10,-71.0,892.0,906 days,906\\n805,829,2015-02-09,893,287,10,-72.0,890.0,907 days,907\\n806,830,2015-02-10,894,288,10,-75.0,891.0,908 days,908\\n807,831,2015-02-11,895,289,10,-72.0,889.0,909 days,909\\n808,833,2015-02-12,896,289,10,-70.0,888.0,910 days,910\\n809,832,2015-02-13,897,290,10,-72.0,884.0,911 days,911\\n810,834,2015-02-14,898,291,10,-72.0,883.0,912 days,912\\n811,835,2015-02-15,899,291,10,-75.0,881.0,913 days,913\\n812,836,2015-02-16,900,292,10,-70.0,883.0,914 days,914\\n813,837,2015-02-17,901,292,10,-71.0,885.0,915 days,915\\n814,838,2015-02-18,902,293,10,-68.0,883.0,916 days,916\\n815,839,2015-02-19,903,294,10,-71.0,882.0,917 days,917\\n816,841,2015-02-20,904,294,10,-71.0,878.0,918 days,918\\n817,840,2015-02-21,905,295,10,-71.0,880.0,919 days,919\\n818,843,2015-02-22,906,296,10,-76.0,878.0,920 days,920\\n819,842,2015-02-24,907,296,10,-75.0,879.0,922 days,922\\n820,844,2015-02-25,908,297,10,-71.0,883.0,923 days,923\\n821,845,2015-02-26,909,297,10,-70.0,878.0,924 days,924\\n822,847,2015-02-27,910,298,10,-73.0,878.0,925 days,925\\n823,846,2015-02-28,911,299,10,-70.0,874.0,926 days,926\\n824,849,2015-03-01,912,299,10,-75.0,875.0,927 days,927\\n825,848,2015-03-02,913,300,11,-71.0,871.0,928 days,928\\n826,850,2015-03-03,914,300,11,-71.0,874.0,929 days,929\\n827,851,2015-03-04,915,301,11,-71.0,878.0,930 days,930\\n828,852,2015-03-05,916,302,11,-71.0,872.0,931 days,931\\n829,854,2015-03-06,917,302,11,-76.0,871.0,932 days,932\\n830,853,2015-03-07,918,303,11,-71.0,867.0,933 days,933\\n831,855,2015-03-08,919,304,11,-74.0,870.0,934 days,934\\n832,856,2015-03-09,920,304,11,-72.0,868.0,935 days,935\\n833,857,2015-03-10,921,305,11,-70.0,867.0,936 days,936\\n834,858,2015-03-11,922,305,11,-73.0,870.0,937 days,937\\n835,859,2015-03-12,923,306,11,-72.0,867.0,938 days,938\\n836,861,2015-03-13,924,307,11,-74.0,867.0,939 days,939\\n837,860,2015-03-14,925,307,11,-71.0,862.0,940 days,940\\n838,862,2015-03-15,926,308,11,-76.0,864.0,941 days,941\\n839,863,2015-03-16,927,308,11,-76.0,862.0,942 days,942\\n840,864,2015-03-17,928,309,11,-72.0,862.0,943 days,943\\n841,865,2015-03-18,929,310,11,-75.0,866.0,944 days,944\\n842,868,2015-03-19,930,310,11,-75.0,865.0,945 days,945\\n843,867,2015-03-20,931,311,11,-69.0,864.0,946 days,946\\n844,866,2015-03-21,932,311,11,-71.0,859.0,947 days,947\\n845,869,2015-03-22,933,312,11,-71.0,863.0,948 days,948\\n846,870,2015-03-23,934,313,11,-73.0,858.0,949 days,949\\n847,872,2015-03-24,935,313,11,-75.0,862.0,950 days,950\\n848,871,2015-03-25,936,314,11,-72.0,865.0,951 days,951\\n849,874,2015-03-26,937,314,11,-73.0,863.0,952 days,952\\n850,876,2015-03-29,940,316,11,-73.0,861.0,955 days,955\\n851,875,2015-03-30,941,317,11,-74.0,857.0,956 days,956\\n852,880,2015-03-31,942,317,11,-74.0,857.0,957 days,957\\n853,877,2015-04-02,943,318,11,-73.0,854.0,959 days,959\\n854,878,2015-04-03,944,318,11,-70.0,852.0,960 days,960\\n855,881,2015-04-04,945,319,11,-72.0,851.0,961 days,961\\n856,879,2015-04-05,946,320,11,-77.0,850.0,962 days,962\\n857,882,2015-04-06,947,320,11,-70.0,853.0,963 days,963\\n858,883,2015-04-07,948,321,11,-73.0,854.0,964 days,964\\n859,884,2015-04-08,949,321,11,-72.0,851.0,965 days,965\\n860,885,2015-04-09,950,322,11,-73.0,850.0,966 days,966\\n861,888,2015-04-10,951,323,11,-75.0,849.0,967 days,967\\n862,886,2015-04-11,952,323,11,-69.0,847.0,968 days,968\\n863,887,2015-04-12,953,324,11,-71.0,847.0,969 days,969\\n864,889,2015-04-13,954,324,11,-73.0,847.0,970 days,970\\n865,892,2015-04-17,958,327,11,-74.0,848.0,974 days,974\\n866,891,2015-04-18,959,327,11,-78.0,846.0,975 days,975\\n867,893,2015-04-19,960,328,11,-76.0,846.0,976 days,976\\n868,895,2015-04-20,961,328,11,-71.0,849.0,977 days,977\\n869,894,2015-04-21,962,329,11,-73.0,845.0,978 days,978\\n870,896,2015-04-22,963,329,11,-71.0,850.0,979 days,979\\n871,897,2015-04-23,964,330,12,-72.0,847.0,980 days,980\\n872,898,2015-04-24,965,331,12,-75.0,847.0,981 days,981\\n873,900,2015-04-25,966,331,12,-73.0,850.0,982 days,982\\n874,899,2015-04-26,967,332,12,-74.0,844.0,983 days,983\\n875,901,2015-04-27,968,332,12,-71.0,848.0,984 days,984\\n876,902,2015-04-28,969,333,12,-72.0,844.0,985 days,985\\n877,903,2015-04-29,970,333,12,-71.0,849.0,986 days,986\\n878,906,2015-04-30,971,334,12,-71.0,848.0,987 days,987\\n879,904,2015-05-01,972,334,12,-73.0,847.0,988 days,988\\n880,905,2015-05-02,973,335,12,-72.0,844.0,989 days,989\\n881,907,2015-05-03,974,336,12,-73.0,842.0,990 days,990\\n882,908,2015-05-04,975,336,12,-73.0,843.0,991 days,991\\n883,909,2015-05-05,976,337,12,-75.0,842.0,992 days,992\\n884,910,2015-05-06,977,337,12,-75.0,841.0,993 days,993\\n885,913,2015-05-07,978,338,12,-73.0,842.0,994 days,994\\n886,912,2015-05-09,979,338,12,-79.0,841.0,996 days,996\\n887,911,2015-05-10,980,339,12,-73.0,840.0,997 days,997\\n888,914,2015-05-11,981,339,12,-73.0,841.0,998 days,998\\n889,917,2015-05-12,982,340,12,-74.0,840.0,999 days,999\\n890,916,2015-05-13,983,340,12,-76.0,840.0,1000 days,1000\\n891,915,2015-05-14,984,341,12,-74.0,840.0,1001 days,1001\\n892,918,2015-05-15,985,342,12,-78.0,840.0,1002 days,1002\\n893,919,2015-05-16,986,342,12,-74.0,840.0,1003 days,1003\\n894,920,2015-05-17,987,343,12,-74.0,839.0,1004 days,1004\\n895,922,2015-05-18,988,343,12,-75.0,840.0,1005 days,1005\\n896,921,2015-05-19,989,344,12,-74.0,841.0,1006 days,1006\\n897,923,2015-05-20,990,344,12,-76.0,839.0,1007 days,1007\\n898,926,2015-05-21,991,345,12,-73.0,840.0,1008 days,1008\\n899,924,2015-05-22,992,345,12,-73.0,842.0,1009 days,1009\\n900,927,2015-05-23,993,346,12,-73.0,840.0,1010 days,1010\\n901,925,2015-05-24,994,346,12,-79.0,842.0,1011 days,1011\\n902,929,2015-05-25,995,347,12,-74.0,842.0,1012 days,1012\\n903,928,2015-05-26,996,348,12,-72.0,842.0,1013 days,1013\\n904,930,2015-05-27,997,348,12,-74.0,843.0,1014 days,1014\\n905,931,2015-05-28,998,349,12,-73.0,842.0,1015 days,1015\\n906,932,2015-05-30,1000,350,12,-74.0,841.0,1017 days,1017\\n907,933,2015-05-31,1001,350,12,-79.0,843.0,1018 days,1018\\n908,936,2015-06-01,1002,351,12,-77.0,844.0,1019 days,1019\\n909,934,2015-06-02,1003,351,12,-74.0,843.0,1020 days,1020\\n910,935,2015-06-03,1004,352,12,-74.0,842.0,1021 days,1021\\n911,939,2015-06-04,1005,352,12,-75.0,843.0,1022 days,1022\\n912,941,2015-06-05,1006,353,12,-78.0,844.0,1023 days,1023\\n913,937,2015-06-06,1007,353,12,-79.0,845.0,1024 days,1024\\n914,940,2015-06-07,1008,354,12,-79.0,844.0,1025 days,1025\\n915,946,2015-06-08,1009,354,12,-75.0,845.0,1026 days,1026\\n916,947,2015-06-09,1010,355,12,-74.0,846.0,1027 days,1027\\n917,948,2015-06-10,1011,355,12,-78.0,845.0,1028 days,1028\\n918,949,2015-06-11,1012,356,12,-81.0,846.0,1029 days,1029\\n919,953,2015-06-12,1013,356,12,-80.0,846.0,1030 days,1030\\n920,950,2015-06-13,1014,357,12,-77.0,846.0,1031 days,1031\\n921,951,2015-06-14,1015,357,12,-75.0,847.0,1032 days,1032\\n922,952,2015-06-16,1016,358,12,-76.0,847.0,1034 days,1034\\n923,955,2015-06-17,1017,359,12,-78.0,850.0,1035 days,1035\\n924,956,2015-06-18,1018,359,12,-79.0,850.0,1036 days,1036\\n925,954,2015-06-19,1019,0,1,-81.0,849.0,1037 days,1037\\n926,938,2015-06-20,1020,0,1,-63.0,832.0,1038 days,1038\\n927,942,2015-06-21,1021,1,1,-76.0,850.0,1039 days,1039\\n928,944,2015-06-22,1022,1,1,-75.0,852.0,1040 days,1040\\n929,943,2015-06-23,1023,2,1,-76.0,851.0,1041 days,1041\\n930,945,2015-06-24,1024,2,1,-76.0,851.0,1042 days,1042\\n931,958,2015-06-25,1025,3,1,-74.0,851.0,1043 days,1043\\n932,957,2015-06-26,1026,3,1,-78.0,851.0,1044 days,1044\\n933,960,2015-06-28,1028,4,1,-75.0,853.0,1046 days,1046\\n934,959,2015-06-29,1029,5,1,-75.0,856.0,1047 days,1047\\n935,961,2015-06-30,1030,5,1,-77.0,855.0,1048 days,1048\\n936,963,2015-07-01,1031,6,1,-76.0,854.0,1049 days,1049\\n937,962,2015-07-02,1032,6,1,-74.0,854.0,1050 days,1050\\n938,965,2015-07-03,1033,7,1,-77.0,856.0,1051 days,1051\\n939,964,2015-07-04,1034,7,1,-76.0,859.0,1052 days,1052\\n940,966,2015-07-05,1035,8,1,-77.0,857.0,1053 days,1053\\n941,967,2015-07-06,1036,8,1,-76.0,856.0,1054 days,1054\\n942,968,2015-07-07,1037,9,1,-80.0,856.0,1055 days,1055\\n943,969,2015-07-08,1038,9,1,-76.0,858.0,1056 days,1056\\n944,970,2015-07-09,1039,10,1,-77.0,857.0,1057 days,1057\\n945,972,2015-07-10,1040,10,1,-77.0,858.0,1058 days,1058\\n946,971,2015-07-11,1041,11,1,-77.0,859.0,1059 days,1059\\n947,973,2015-07-12,1042,11,1,-76.0,859.0,1060 days,1060\\n948,974,2015-07-13,1043,12,1,-77.0,860.0,1061 days,1061\\n949,975,2015-07-14,1044,12,1,-79.0,860.0,1062 days,1062\\n950,978,2015-07-15,1045,13,1,-80.0,861.0,1063 days,1063\\n951,979,2015-07-16,1046,13,1,-77.0,862.0,1064 days,1064\\n952,977,2015-07-17,1047,14,1,-77.0,863.0,1065 days,1065\\n953,976,2015-07-18,1048,14,1,-78.0,864.0,1066 days,1066\\n954,980,2015-07-19,1049,15,1,-75.0,864.0,1067 days,1067\\n955,981,2015-07-20,1050,15,1,-76.0,863.0,1068 days,1068\\n956,983,2015-07-21,1051,16,1,-76.0,864.0,1069 days,1069\\n957,982,2015-07-23,1052,16,1,-78.0,865.0,1071 days,1071\\n958,984,2015-07-24,1053,17,1,-79.0,865.0,1072 days,1072\\n959,985,2015-07-25,1054,17,1,-77.0,867.0,1073 days,1073\\n960,987,2015-07-26,1055,17,1,-77.0,868.0,1074 days,1074\\n961,986,2015-07-27,1056,18,1,-76.0,868.0,1075 days,1075\\n962,988,2015-07-28,1057,18,1,-78.0,867.0,1076 days,1076\\n963,989,2015-07-29,1058,19,1,-78.0,868.0,1077 days,1077\\n964,990,2015-07-30,1059,19,1,-78.0,870.0,1078 days,1078\\n965,992,2015-07-31,1060,20,1,-78.0,870.0,1079 days,1079\\n966,993,2015-08-01,1061,20,1,-77.0,871.0,1080 days,1080\\n967,991,2015-08-02,1062,21,1,-77.0,871.0,1081 days,1081\\n968,994,2015-08-03,1063,21,1,-79.0,871.0,1082 days,1082\\n969,996,2015-08-04,1064,22,1,-77.0,871.0,1083 days,1083\\n970,995,2015-08-05,1065,22,1,-78.0,873.0,1084 days,1084\\n971,997,2015-08-06,1066,23,1,-78.0,875.0,1085 days,1085\\n972,998,2015-08-07,1067,23,1,-79.0,875.0,1086 days,1086\\n973,1000,2015-08-08,1068,24,1,-76.0,874.0,1087 days,1087\\n974,999,2015-08-09,1069,24,1,-77.0,876.0,1088 days,1088\\n975,1001,2015-08-10,1070,25,1,-80.0,877.0,1089 days,1089\\n976,1002,2015-08-11,1071,25,1,-78.0,878.0,1090 days,1090\\n977,1003,2015-08-12,1072,26,1,-78.0,879.0,1091 days,1091\\n978,1004,2015-08-13,1073,26,1,-82.0,879.0,1092 days,1092\\n979,1005,2015-08-14,1074,27,1,-77.0,878.0,1093 days,1093\\n980,1006,2015-08-15,1075,27,1,-77.0,879.0,1094 days,1094\\n981,1007,2015-08-16,1076,28,1,-81.0,880.0,1095 days,1095\\n982,1008,2015-08-17,1077,28,1,-79.0,880.0,1096 days,1096\\n983,1009,2015-08-18,1078,29,1,-80.0,881.0,1097 days,1097\\n984,1010,2015-08-19,1079,29,1,-80.0,882.0,1098 days,1098\\n985,1013,2015-08-20,1080,29,1,-77.0,882.0,1099 days,1099\\n986,1011,2015-08-21,1081,30,2,-77.0,882.0,1100 days,1100\\n987,1012,2015-08-22,1082,30,2,-79.0,882.0,1101 days,1101\\n988,1014,2015-08-23,1083,31,2,-80.0,883.0,1102 days,1102\\n989,1015,2015-08-24,1084,31,2,-78.0,885.0,1103 days,1103\\n990,1017,2015-08-25,1085,32,2,-79.0,886.0,1104 days,1104\\n991,1016,2015-08-26,1086,32,2,-77.0,885.0,1105 days,1105\\n992,1019,2015-08-27,1087,33,2,-78.0,885.0,1106 days,1106\\n993,1020,2015-08-29,1088,33,2,-77.0,885.0,1108 days,1108\\n994,1018,2015-08-30,1089,34,2,-76.0,885.0,1109 days,1109\\n995,1021,2015-08-31,1090,34,2,-78.0,886.0,1110 days,1110\\n996,1022,2015-09-01,1091,35,2,-77.0,886.0,1111 days,1111\\n997,1023,2015-09-02,1092,35,2,-79.0,886.0,1112 days,1112\\n998,1024,2015-09-03,1093,36,2,-77.0,887.0,1113 days,1113\\n999,1026,2015-09-04,1094,36,2,-80.0,888.0,1114 days,1114\\n1000,1027,2015-09-05,1095,36,2,-79.0,888.0,1115 days,1115\\n1001,1025,2015-09-06,1096,37,2,-79.0,888.0,1116 days,1116\\n1002,1028,2015-09-07,1097,37,2,-78.0,889.0,1117 days,1117\\n1003,1029,2015-09-08,1098,38,2,-77.0,890.0,1118 days,1118\\n1004,1030,2015-09-09,1099,38,2,-78.0,891.0,1119 days,1119\\n1005,1031,2015-09-10,1100,39,2,-79.0,890.0,1120 days,1120\\n1006,1034,2015-09-11,1101,39,2,-80.0,891.0,1121 days,1121\\n1007,1032,2015-09-12,1102,40,2,-84.0,892.0,1122 days,1122\\n1008,1033,2015-09-13,1103,40,2,-81.0,893.0,1123 days,1123\\n1009,1035,2015-09-14,1104,41,2,-79.0,893.0,1124 days,1124\\n1010,1036,2015-09-15,1105,41,2,-78.0,892.0,1125 days,1125\\n1011,1037,2015-09-16,1106,42,2,-82.0,893.0,1126 days,1126\\n1012,1040,2015-09-17,1107,42,2,-79.0,893.0,1127 days,1127\\n1013,1038,2015-09-18,1108,42,2,-78.0,895.0,1128 days,1128\\n1014,1039,2015-09-19,1109,43,2,-82.0,895.0,1129 days,1129\\n1015,1041,2015-09-20,1110,43,2,-81.0,895.0,1130 days,1130\\n1016,1042,2015-09-21,1111,44,2,-79.0,896.0,1131 days,1131\\n1017,1043,2015-09-22,1112,44,2,-80.0,895.0,1132 days,1132\\n1018,1044,2015-09-23,1113,45,2,-79.0,895.0,1133 days,1133\\n1019,1045,2015-09-24,1114,45,2,-79.0,896.0,1134 days,1134\\n1020,1047,2015-09-25,1115,46,2,-80.0,897.0,1135 days,1135\\n1021,1046,2015-09-26,1116,46,2,-79.0,898.0,1136 days,1136\\n1022,1048,2015-09-27,1117,47,2,-79.0,898.0,1137 days,1137\\n1023,1049,2015-09-28,1118,47,2,-80.0,898.0,1138 days,1138\\n1024,1050,2015-09-29,1119,48,2,-81.0,899.0,1139 days,1139\\n1025,1051,2015-09-30,1120,48,2,-80.0,900.0,1140 days,1140\\n1026,1052,2015-10-01,1121,48,2,-81.0,901.0,1141 days,1141\\n1027,1053,2015-10-02,1122,49,2,-79.0,901.0,1142 days,1142\\n1028,1054,2015-10-03,1123,49,2,-79.0,900.0,1143 days,1143\\n1029,1055,2015-10-04,1124,50,2,-80.0,900.0,1144 days,1144\\n1030,1056,2015-10-06,1125,50,2,-79.0,900.0,1146 days,1146\\n1031,1057,2015-10-07,1126,51,2,-79.0,901.0,1147 days,1147\\n1032,1058,2015-10-08,1127,51,2,-80.0,901.0,1148 days,1148\\n1033,1059,2015-10-09,1128,52,2,-79.0,902.0,1149 days,1149\\n1034,1060,2015-10-10,1129,52,2,-80.0,902.0,1150 days,1150\\n1035,1061,2015-10-11,1130,53,2,-81.0,902.0,1151 days,1151\\n1036,1062,2015-10-12,1131,53,2,-81.0,902.0,1152 days,1152\\n1037,1063,2015-10-13,1132,53,2,-82.0,902.0,1153 days,1153\\n1038,1064,2015-10-14,1133,54,2,-82.0,902.0,1154 days,1154\\n1039,1065,2015-10-15,1134,54,2,-80.0,902.0,1155 days,1155\\n1040,1069,2015-10-16,1135,55,2,-81.0,901.0,1156 days,1156\\n1041,1066,2015-10-17,1136,55,2,-82.0,901.0,1157 days,1157\\n1042,1068,2015-10-18,1137,56,2,-81.0,901.0,1158 days,1158\\n1043,1067,2015-10-19,1138,56,2,-82.0,901.0,1159 days,1159\\n1044,1070,2015-10-20,1139,57,2,-80.0,901.0,1160 days,1160\\n1045,1071,2015-10-21,1140,57,2,-81.0,901.0,1161 days,1161\\n1046,1072,2015-10-22,1141,57,2,-82.0,902.0,1162 days,1162\\n1047,1073,2015-10-23,1142,58,2,-82.0,902.0,1163 days,1163\\n1048,1074,2015-10-24,1143,58,2,-82.0,901.0,1164 days,1164\\n1049,1075,2015-10-25,1144,59,2,-82.0,902.0,1165 days,1165\\n1050,1076,2015-10-26,1145,59,2,-82.0,903.0,1166 days,1166\\n1051,1077,2015-10-27,1146,60,3,-82.0,902.0,1167 days,1167\\n1052,1078,2015-10-28,1147,60,3,-80.0,901.0,1168 days,1168\\n1053,1080,2015-10-29,1148,61,3,-80.0,901.0,1169 days,1169\\n1054,1079,2015-10-30,1149,61,3,-81.0,902.0,1170 days,1170\\n1055,1081,2015-10-31,1150,62,3,-82.0,902.0,1171 days,1171\\n1056,1082,2015-11-01,1151,62,3,-82.0,901.0,1172 days,1172\\n1057,1086,2015-11-02,1152,62,3,-80.0,901.0,1173 days,1173\\n1058,1083,2015-11-03,1153,63,3,-82.0,900.0,1174 days,1174\\n1059,1088,2015-11-04,1154,63,3,-84.0,900.0,1175 days,1175\\n1060,1084,2015-11-05,1155,64,3,-84.0,900.0,1176 days,1176\\n1061,1085,2015-11-06,1156,64,3,-84.0,900.0,1177 days,1177\\n1062,1087,2015-11-07,1157,65,3,-82.0,900.0,1178 days,1178\\n1063,1089,2015-11-08,1158,65,3,-82.0,898.0,1179 days,1179\\n1064,1090,2015-11-09,1159,66,3,-82.0,898.0,1180 days,1180\\n1065,1091,2015-11-10,1160,66,3,-80.0,899.0,1181 days,1181\\n1066,1092,2015-11-12,1161,66,3,-83.0,898.0,1183 days,1183\\n1067,1093,2015-11-13,1162,67,3,-84.0,897.0,1184 days,1184\\n1068,1094,2015-11-14,1163,67,3,-86.0,896.0,1185 days,1185\\n1069,1095,2015-11-15,1164,68,3,-86.0,896.0,1186 days,1186\\n1070,1096,2015-11-16,1165,68,3,-84.0,897.0,1187 days,1187\\n1071,1097,2015-11-17,1166,69,3,-84.0,895.0,1188 days,1188\\n1072,1098,2015-11-18,1167,69,3,-84.0,894.0,1189 days,1189\\n1073,1102,2015-11-19,1168,70,3,-84.0,894.0,1190 days,1190\\n1074,1100,2015-11-20,1169,70,3,-89.0,894.0,1191 days,1191\\n1075,1101,2015-11-21,1170,71,3,-85.0,893.0,1192 days,1192\\n1076,1099,2015-11-22,1171,71,3,-87.0,892.0,1193 days,1193\\n1077,1104,2015-11-23,1172,71,3,-87.0,892.0,1194 days,1194\\n1078,1103,2015-11-24,1173,72,3,-87.0,892.0,1195 days,1195\\n1079,1105,2015-11-25,1174,72,3,-85.0,891.0,1196 days,1196\\n1080,1106,2015-11-26,1175,73,3,-85.0,890.0,1197 days,1197\\n1081,1107,2015-11-27,1176,73,3,-84.0,890.0,1198 days,1198\\n1082,1108,2015-11-28,1177,74,3,-84.0,888.0,1199 days,1199\\n1083,1109,2015-11-29,1178,74,3,-86.0,888.0,1200 days,1200\\n1084,1110,2015-11-30,1179,75,3,-85.0,887.0,1201 days,1201\\n1085,1111,2015-12-01,1180,75,3,-86.0,886.0,1202 days,1202\\n1086,1112,2015-12-02,1181,75,3,-86.0,885.0,1203 days,1203\\n1087,1114,2015-12-03,1182,76,3,-85.0,884.0,1204 days,1204\\n1088,1113,2015-12-04,1183,76,3,-86.0,883.0,1205 days,1205\\n1089,1115,2015-12-05,1184,77,3,-85.0,882.0,1206 days,1206\\n1090,1116,2015-12-06,1185,77,3,-84.0,881.0,1207 days,1207\\n1091,1117,2015-12-07,1186,78,3,-86.0,881.0,1208 days,1208\\n1092,1118,2015-12-08,1187,78,3,-84.0,881.0,1209 days,1209\\n1093,1119,2015-12-09,1188,79,3,-90.0,881.0,1210 days,1210\\n1094,1120,2015-12-10,1189,79,3,-87.0,879.0,1211 days,1211\\n1095,1121,2015-12-11,1190,79,3,-87.0,877.0,1212 days,1212\\n1096,1122,2015-12-12,1191,80,3,-87.0,876.0,1213 days,1213\\n1097,1123,2015-12-13,1192,80,3,-86.0,876.0,1214 days,1214\\n1098,1124,2015-12-14,1193,81,3,-84.0,875.0,1215 days,1215\\n1099,1125,2015-12-15,1194,81,3,-84.0,873.0,1216 days,1216\\n1100,1126,2015-12-16,1195,82,3,-86.0,872.0,1217 days,1217\\n1101,1129,2015-12-17,1196,82,3,-86.0,871.0,1218 days,1218\\n1102,1127,2015-12-18,1197,83,3,-85.0,869.0,1219 days,1219\\n1103,1128,2015-12-20,1198,83,3,-86.0,868.0,1221 days,1221\\n1104,1130,2015-12-21,1199,84,3,-86.0,868.0,1222 days,1222\\n1105,1131,2015-12-22,1200,84,3,-84.0,866.0,1223 days,1223\\n1106,1132,2015-12-23,1201,84,3,-85.0,866.0,1224 days,1224\\n1107,1133,2015-12-24,1202,85,3,-85.0,864.0,1225 days,1225\\n1108,1136,2015-12-25,1203,85,3,-85.0,863.0,1226 days,1226\\n1109,1135,2015-12-26,1204,86,3,-84.0,862.0,1227 days,1227\\n1110,1134,2015-12-27,1205,86,3,-86.0,861.0,1228 days,1228\\n1111,1137,2015-12-28,1206,87,3,-85.0,859.0,1229 days,1229\\n1112,1138,2015-12-29,1207,87,3,-85.0,858.0,1230 days,1230\\n1113,1139,2015-12-30,1208,88,3,-85.0,857.0,1231 days,1231\\n1114,1141,2015-12-31,1209,88,3,-85.0,855.0,1232 days,1232\\n1115,1140,2016-01-01,1210,88,3,-85.0,854.0,1233 days,1233\\n1116,1142,2016-01-02,1211,89,3,-83.0,853.0,1234 days,1234\\n1117,1143,2016-01-03,1212,89,3,-86.0,851.0,1235 days,1235\\n1118,1145,2016-01-04,1213,90,4,-84.0,851.0,1236 days,1236\\n1119,1144,2016-01-05,1214,90,4,-85.0,849.0,1237 days,1237\\n1120,1146,2016-01-06,1215,91,4,-85.0,848.0,1238 days,1238\\n1121,1147,2016-01-07,1216,91,4,-86.0,847.0,1239 days,1239\\n1122,1148,2016-01-08,1217,92,4,-88.0,846.0,1240 days,1240\\n1123,1149,2016-01-09,1218,92,4,-86.0,845.0,1241 days,1241\\n1124,1150,2016-01-10,1219,93,4,-87.0,844.0,1242 days,1242\\n1125,1151,2016-01-11,1220,93,4,-87.0,842.0,1243 days,1243\\n1126,1152,2016-01-12,1221,93,4,-87.0,841.0,1244 days,1244\\n1127,1153,2016-01-13,1222,94,4,-87.0,840.0,1245 days,1245\\n1128,1155,2016-01-14,1223,94,4,-88.0,839.0,1246 days,1246\\n1129,1154,2016-01-15,1224,95,4,-88.0,837.0,1247 days,1247\\n1130,1156,2016-01-16,1225,95,4,-87.0,836.0,1248 days,1248\\n1131,1157,2016-01-17,1226,96,4,-87.0,835.0,1249 days,1249\\n1132,1158,2016-01-18,1227,96,4,-88.0,833.0,1250 days,1250\\n1133,1159,2016-01-19,1228,97,4,-88.0,832.0,1251 days,1251\\n1134,1160,2016-01-20,1229,97,4,-88.0,831.0,1252 days,1252\\n1135,1161,2016-01-21,1230,98,4,-88.0,830.0,1253 days,1253\\n1136,1162,2016-01-22,1231,98,4,-88.0,828.0,1254 days,1254\\n1137,1163,2016-01-23,1232,99,4,-88.0,827.0,1255 days,1255\\n1138,1164,2016-01-24,1233,99,4,-88.0,826.0,1256 days,1256\\n1139,1166,2016-01-26,1234,99,4,-88.0,824.0,1258 days,1258\\n1140,1165,2016-01-27,1235,100,4,-88.0,824.0,1259 days,1259\\n1141,1170,2016-01-28,1236,100,4,-87.0,822.0,1260 days,1260\\n1142,1169,2016-01-29,1237,101,4,-88.0,820.0,1261 days,1261\\n1143,1167,2016-01-30,1238,101,4,-87.0,819.0,1262 days,1262\\n1144,1168,2016-01-31,1239,102,4,-89.0,818.0,1263 days,1263\\n1145,1171,2016-02-01,1240,102,4,-87.0,816.0,1264 days,1264\\n1146,1172,2016-02-02,1241,103,4,-87.0,816.0,1265 days,1265\\n1147,1173,2016-02-03,1242,103,4,-87.0,815.0,1266 days,1266\\n1148,1174,2016-02-04,1243,104,4,-86.0,814.0,1267 days,1267\\n1149,1175,2016-02-05,1244,104,4,-85.0,812.0,1268 days,1268\\n1150,1176,2016-02-06,1245,105,4,-86.0,811.0,1269 days,1269\\n1151,1178,2016-02-07,1246,105,4,-85.0,810.0,1270 days,1270\\n1152,1177,2016-02-08,1247,105,4,-85.0,809.0,1271 days,1271\\n1153,1179,2016-02-09,1248,106,4,-86.0,807.0,1272 days,1272\\n1154,1180,2016-02-10,1249,106,4,-85.0,806.0,1273 days,1273\\n1155,1182,2016-02-11,1250,107,4,-85.0,804.0,1274 days,1274\\n1156,1185,2016-02-12,1251,107,4,-85.0,803.0,1275 days,1275\\n1157,1184,2016-02-13,1252,108,4,-85.0,802.0,1276 days,1276\\n1158,1181,2016-02-14,1253,108,4,-85.0,800.0,1277 days,1277\\n1159,1183,2016-02-15,1254,109,4,-84.0,799.0,1278 days,1278\\n1160,1187,2016-02-16,1255,109,4,-84.0,798.0,1279 days,1279\\n1161,1186,2016-02-17,1256,110,4,-84.0,797.0,1280 days,1280\\n1162,1188,2016-02-18,1257,110,4,-84.0,794.0,1281 days,1281\\n1163,1189,2016-02-19,1258,111,4,-83.0,794.0,1282 days,1282\\n1164,1190,2016-02-20,1259,111,4,-84.0,794.0,1283 days,1283\\n1165,1191,2016-02-21,1260,112,4,-83.0,792.0,1284 days,1284\\n1166,1192,2016-02-22,1261,112,4,-81.0,790.0,1285 days,1285\\n1167,1193,2016-02-23,1262,112,4,-81.0,790.0,1286 days,1286\\n1168,1194,2016-02-24,1263,113,4,-84.0,788.0,1287 days,1287\\n1169,1195,2016-02-25,1264,113,4,-84.0,787.0,1288 days,1288\\n1170,1197,2016-02-26,1265,114,4,-81.0,787.0,1289 days,1289\\n1171,1196,2016-02-27,1266,114,4,-82.0,787.0,1290 days,1290\\n1172,1198,2016-02-28,1267,115,4,-83.0,786.0,1291 days,1291\\n1173,1199,2016-02-29,1268,115,4,-83.0,784.0,1292 days,1292\\n1174,1201,2016-03-01,1269,116,4,-83.0,782.0,1293 days,1293\\n1175,1200,2016-03-03,1270,116,4,-82.0,782.0,1295 days,1295\\n1176,1202,2016-03-04,1271,117,4,-84.0,781.0,1296 days,1296\\n1177,1203,2016-03-05,1272,117,4,-81.0,780.0,1297 days,1297\\n1178,1204,2016-03-06,1273,118,4,-79.0,778.0,1298 days,1298\\n1179,1205,2016-03-07,1274,118,4,-82.0,777.0,1299 days,1299\\n1180,1206,2016-03-08,1275,119,4,-82.0,775.0,1300 days,1300\\n1181,1207,2016-03-09,1276,119,4,-83.0,774.0,1301 days,1301\\n1182,1208,2016-03-10,1277,120,5,-84.0,774.0,1302 days,1302\\n1183,1210,2016-03-11,1278,120,5,-83.0,773.0,1303 days,1303\\n1184,1209,2016-03-12,1279,121,5,-83.0,772.0,1304 days,1304\\n1185,1211,2016-03-13,1280,121,5,-84.0,771.0,1305 days,1305\\n1186,1212,2016-03-14,1281,122,5,-83.0,769.0,1306 days,1306\\n1187,1213,2016-03-15,1282,122,5,-81.0,768.0,1307 days,1307\\n1188,1214,2016-03-16,1283,123,5,-82.0,767.0,1308 days,1308\\n1189,1216,2016-03-17,1284,123,5,-80.0,767.0,1309 days,1309\\n1190,1217,2016-03-18,1285,123,5,-80.0,766.0,1310 days,1310\\n1191,1215,2016-03-19,1286,124,5,-80.0,765.0,1311 days,1311\\n1192,1218,2016-03-20,1287,124,5,-80.0,764.0,1312 days,1312\\n1193,1219,2016-03-21,1288,125,5,-80.0,763.0,1313 days,1313\\n1194,1220,2016-03-24,1291,126,5,-80.0,760.0,1316 days,1316\\n1195,1222,2016-03-25,1292,127,5,-81.0,760.0,1317 days,1317\\n1196,1221,2016-03-26,1293,127,5,-81.0,758.0,1318 days,1318\\n1197,1223,2016-03-27,1294,128,5,-79.0,758.0,1319 days,1319\\n1198,1224,2016-03-28,1295,128,5,-79.0,757.0,1320 days,1320\\n1199,1226,2016-03-29,1296,129,5,-79.0,756.0,1321 days,1321\\n1200,1225,2016-03-30,1297,129,5,-80.0,755.0,1322 days,1322\\n1201,1229,2016-03-31,1298,130,5,-79.0,755.0,1323 days,1323\\n1202,1228,2016-04-01,1299,130,5,-80.0,753.0,1324 days,1324\\n1203,1227,2016-04-02,1300,131,5,-79.0,752.0,1325 days,1325\\n1204,1230,2016-04-03,1301,131,5,-78.0,752.0,1326 days,1326\\n1205,1231,2016-04-04,1302,132,5,-80.0,751.0,1327 days,1327\\n1206,1232,2016-04-05,1303,132,5,-78.0,751.0,1328 days,1328\\n1207,1233,2016-04-06,1304,133,5,-80.0,750.0,1329 days,1329\\n1208,1235,2016-04-07,1305,133,5,-80.0,749.0,1330 days,1330\\n1209,1234,2016-04-08,1306,134,5,-79.0,748.0,1331 days,1331\\n1210,1236,2016-04-10,1307,134,5,-80.0,748.0,1333 days,1333\\n1211,1237,2016-04-11,1308,135,5,-81.0,748.0,1334 days,1334\\n1212,1238,2016-04-12,1309,135,5,-81.0,747.0,1335 days,1335\\n1213,1239,2016-04-13,1310,136,5,-76.0,745.0,1336 days,1336\\n1214,1240,2016-04-14,1311,136,5,-78.0,745.0,1337 days,1337\\n1215,1243,2016-04-15,1312,137,5,-77.0,745.0,1338 days,1338\\n1216,1241,2016-04-16,1313,137,5,-77.0,745.0,1339 days,1339\\n1217,1242,2016-04-17,1314,138,5,-78.0,744.0,1340 days,1340\\n1218,1244,2016-04-18,1315,138,5,-77.0,744.0,1341 days,1341\\n1219,1245,2016-04-19,1316,139,5,-80.0,744.0,1342 days,1342\\n1220,1246,2016-04-20,1317,139,5,-80.0,743.0,1343 days,1343\\n1221,1247,2016-04-21,1318,140,5,-80.0,743.0,1344 days,1344\\n1222,1248,2016-04-22,1319,140,5,-78.0,742.0,1345 days,1345\\n1223,1250,2016-04-23,1320,141,5,-77.0,741.0,1346 days,1346\\n1224,1249,2016-04-24,1321,141,5,-77.0,740.0,1347 days,1347\\n1225,1251,2016-04-25,1322,142,5,-78.0,740.0,1348 days,1348\\n1226,1252,2016-04-26,1323,142,5,-77.0,738.0,1349 days,1349\\n1227,1253,2016-04-27,1324,143,5,-78.0,738.0,1350 days,1350\\n1228,1256,2016-04-28,1325,144,5,-78.0,738.0,1351 days,1351\\n1229,1254,2016-04-29,1326,144,5,-77.0,738.0,1352 days,1352\\n1230,1255,2016-04-30,1327,145,5,-76.0,736.0,1353 days,1353\\n1231,1257,2016-05-01,1328,145,5,-77.0,735.0,1354 days,1354\\n1232,1258,2016-05-02,1329,146,5,-74.0,735.0,1355 days,1355\\n1233,1259,2016-05-03,1330,146,5,-78.0,734.0,1356 days,1356\\n1234,1260,2016-05-04,1331,147,5,-76.0,734.0,1357 days,1357\\n1235,1262,2016-05-05,1332,147,5,-78.0,734.0,1358 days,1358\\n1236,1263,2016-05-06,1333,148,5,-76.0,733.0,1359 days,1359\\n1237,1261,2016-05-07,1334,148,5,-77.0,732.0,1360 days,1360\\n1238,1264,2016-05-08,1335,149,5,-77.0,732.0,1361 days,1361\\n1239,1265,2016-05-09,1336,149,5,-75.0,732.0,1362 days,1362\\n1240,1266,2016-05-10,1337,150,6,-76.0,734.0,1363 days,1363\\n1241,1267,2016-05-11,1338,150,6,-75.0,734.0,1364 days,1364\\n1242,1268,2016-05-12,1339,151,6,-77.0,733.0,1365 days,1365\\n1243,1269,2016-05-13,1340,151,6,-76.0,734.0,1366 days,1366\\n1244,1270,2016-05-14,1341,152,6,-76.0,735.0,1367 days,1367\\n1245,1271,2016-05-15,1342,152,6,-80.0,735.0,1368 days,1368\\n1246,1272,2016-05-17,1343,153,6,-74.0,735.0,1370 days,1370\\n1247,1273,2016-05-18,1344,153,6,-75.0,734.0,1371 days,1371\\n1248,1276,2016-05-19,1345,154,6,-75.0,735.0,1372 days,1372\\n1249,1274,2016-05-20,1346,155,6,-75.0,737.0,1373 days,1373\\n1250,1277,2016-05-21,1347,155,6,-75.0,736.0,1374 days,1374\\n1251,1275,2016-05-22,1348,156,6,-76.0,735.0,1375 days,1375\\n1252,1278,2016-05-23,1349,156,6,-73.0,737.0,1376 days,1376\\n1253,1279,2016-05-24,1350,157,6,-73.0,738.0,1377 days,1377\\n1254,1280,2016-05-25,1351,157,6,-72.0,739.0,1378 days,1378\\n1255,1283,2016-05-26,1352,158,6,-73.0,736.0,1379 days,1379\\n1256,1281,2016-05-27,1353,158,6,-76.0,737.0,1380 days,1380\\n1257,1282,2016-05-28,1354,159,6,-75.0,739.0,1381 days,1381\\n1258,1284,2016-05-29,1355,159,6,-75.0,740.0,1382 days,1382\\n1259,1286,2016-05-30,1356,160,6,-74.0,739.0,1383 days,1383\\n1260,1285,2016-05-31,1357,160,6,-72.0,738.0,1384 days,1384\\n1261,1287,2016-06-01,1358,161,6,-74.0,738.0,1385 days,1385\\n1262,1288,2016-06-02,1359,162,6,-76.0,739.0,1386 days,1386\\n1263,1289,2016-06-03,1360,162,6,-76.0,739.0,1387 days,1387\\n1264,1290,2016-06-04,1361,163,6,-75.0,739.0,1388 days,1388\\n1265,1291,2016-06-05,1362,163,6,-74.0,739.0,1389 days,1389\\n1266,1292,2016-06-06,1363,164,6,-75.0,740.0,1390 days,1390\\n1267,1293,2016-06-07,1364,164,6,-74.0,740.0,1391 days,1391\\n1268,1294,2016-06-08,1365,165,6,-74.0,739.0,1392 days,1392\\n1269,1295,2016-06-09,1366,165,6,-75.0,740.0,1393 days,1393\\n1270,1296,2016-06-10,1367,166,6,-74.0,743.0,1394 days,1394\\n1271,1297,2016-06-11,1368,167,6,-74.0,743.0,1395 days,1395\\n1272,1299,2016-06-12,1369,167,6,-73.0,742.0,1396 days,1396\\n1273,1298,2016-06-13,1370,168,6,-74.0,744.0,1397 days,1397\\n1274,1301,2016-06-14,1371,168,6,-75.0,746.0,1398 days,1398\\n1275,1300,2016-06-15,1372,169,6,-74.0,745.0,1399 days,1399\\n1276,1303,2016-06-16,1373,169,6,-74.0,746.0,1400 days,1400\\n1277,1302,2016-06-17,1374,170,6,-75.0,748.0,1401 days,1401\\n1278,1304,2016-06-18,1375,170,6,-73.0,749.0,1402 days,1402\\n1279,1305,2016-06-19,1376,171,6,-75.0,749.0,1403 days,1403\\n1280,1306,2016-06-20,1377,172,6,-76.0,749.0,1404 days,1404\\n1281,1308,2016-06-21,1378,172,6,-76.0,751.0,1405 days,1405\\n1282,1307,2016-06-23,1379,173,6,-77.0,751.0,1407 days,1407\\n1283,1311,2016-06-24,1380,173,6,-74.0,751.0,1408 days,1408\\n1284,1309,2016-06-25,1381,174,6,-73.0,751.0,1409 days,1409\\n1285,1310,2016-06-26,1382,174,6,-76.0,752.0,1410 days,1410\\n1286,1312,2016-06-27,1383,175,6,-73.0,752.0,1411 days,1411\\n1287,1313,2016-06-28,1384,176,6,-74.0,753.0,1412 days,1412\\n1288,1314,2016-06-29,1385,176,6,-75.0,755.0,1413 days,1413\\n1289,1315,2016-06-30,1386,177,6,-74.0,755.0,1414 days,1414\\n1290,1316,2016-07-01,1387,177,6,-74.0,755.0,1415 days,1415\\n1291,1317,2016-07-02,1388,178,6,-73.0,756.0,1416 days,1416\\n1292,1318,2016-07-12,1398,184,7,-66.0,751.0,1426 days,1426\\n1293,1319,2016-07-13,1399,184,7,-73.0,770.0,1427 days,1427\\n1294,1322,2016-07-14,1400,185,7,-73.0,770.0,1428 days,1428\\n1295,1321,2016-07-15,1401,185,7,-73.0,770.0,1429 days,1429\\n1296,1320,2016-07-16,1402,186,7,-75.0,771.0,1430 days,1430\\n1297,1323,2016-07-17,1403,187,7,-75.0,771.0,1431 days,1431\\n1298,1324,2016-07-18,1404,187,7,-75.0,774.0,1432 days,1432\\n1299,1325,2016-07-19,1405,188,7,-75.0,775.0,1433 days,1433\\n1300,1328,2016-07-20,1406,188,7,-76.0,775.0,1434 days,1434\\n1301,1329,2016-07-21,1407,189,7,-74.0,779.0,1435 days,1435\\n1302,1327,2016-07-22,1408,190,7,-75.0,779.0,1436 days,1436\\n1303,1326,2016-07-23,1409,190,7,-74.0,781.0,1437 days,1437\\n1304,1330,2016-07-24,1410,191,7,-72.0,782.0,1438 days,1438\\n1305,1331,2016-07-25,1411,191,7,-72.0,782.0,1439 days,1439\\n1306,1333,2016-07-26,1412,192,7,-78.0,784.0,1440 days,1440\\n1307,1332,2016-07-27,1413,193,7,-72.0,784.0,1441 days,1441\\n1308,1336,2016-07-28,1414,193,7,-73.0,785.0,1442 days,1442\\n1309,1334,2016-07-29,1415,194,7,-72.0,787.0,1443 days,1443\\n1310,1335,2016-07-31,1416,194,7,-72.0,791.0,1445 days,1445\\n1311,1337,2016-08-01,1417,195,7,-70.0,791.0,1446 days,1446\\n1312,1338,2016-08-02,1418,196,7,-73.0,793.0,1447 days,1447\\n1313,1339,2016-08-03,1419,196,7,-73.0,793.0,1448 days,1448\\n1314,1340,2016-08-04,1420,197,7,-71.0,793.0,1449 days,1449\\n1315,1343,2016-08-05,1421,197,7,-72.0,797.0,1450 days,1450\\n1316,1342,2016-08-06,1422,198,7,-72.0,798.0,1451 days,1451\\n1317,1341,2016-08-07,1423,199,7,-71.0,800.0,1452 days,1452\\n1318,1344,2016-08-08,1424,199,7,-72.0,803.0,1453 days,1453\\n1319,1345,2016-08-09,1425,200,7,-72.0,804.0,1454 days,1454\\n1320,1346,2016-08-10,1426,200,7,-71.0,803.0,1455 days,1455\\n1321,1347,2016-08-11,1427,201,7,-72.0,807.0,1456 days,1456\\n1322,1348,2016-08-12,1428,202,7,-72.0,808.0,1457 days,1457\\n1323,1349,2016-08-13,1429,202,7,-70.0,810.0,1458 days,1458\\n1324,1351,2016-08-14,1430,203,7,-69.0,810.0,1459 days,1459\\n1325,1350,2016-08-15,1431,204,7,-69.0,811.0,1460 days,1460\\n1326,1352,2016-08-16,1432,204,7,-71.0,813.0,1461 days,1461\\n1327,1353,2016-08-17,1433,205,7,-70.0,818.0,1462 days,1462\\n1328,1356,2016-08-18,1434,205,7,-70.0,818.0,1463 days,1463\\n1329,1355,2016-08-19,1435,206,7,-71.0,823.0,1464 days,1464\\n1330,1354,2016-08-20,1436,207,7,-72.0,825.0,1465 days,1465\\n1331,1357,2016-08-21,1437,207,7,-71.0,821.0,1466 days,1466\\n1332,1358,2016-08-22,1438,208,7,-68.0,823.0,1467 days,1467\\n1333,1360,2016-08-23,1439,208,7,-71.0,828.0,1468 days,1468\\n1334,1359,2016-08-24,1440,209,7,-70.0,828.0,1469 days,1469\\n1335,1361,2016-08-25,1441,210,8,-74.0,828.0,1470 days,1470\\n1336,1362,2016-08-26,1442,210,8,-68.0,829.0,1471 days,1471\\n1337,1363,2016-08-27,1443,211,8,-69.0,831.0,1472 days,1472\\n1338,1364,2016-08-28,1444,212,8,-69.0,833.0,1473 days,1473\\n1339,1365,2016-08-29,1445,212,8,-69.0,836.0,1474 days,1474\\n1340,1366,2016-08-30,1446,213,8,-70.0,841.0,1475 days,1475\\n1341,1367,2016-08-31,1447,214,8,-74.0,841.0,1476 days,1476\\n1342,1369,2016-09-01,1448,214,8,-69.0,841.0,1477 days,1477\\n1343,1368,2016-09-02,1449,215,8,-71.0,841.0,1478 days,1478\\n1344,1370,2016-09-03,1450,215,8,-69.0,842.0,1479 days,1479\\n1345,1371,2016-09-04,1451,216,8,-71.0,842.0,1480 days,1480\\n1346,1373,2016-09-06,1452,217,8,-74.0,845.0,1482 days,1482\\n1347,1372,2016-09-07,1453,217,8,-73.0,850.0,1483 days,1483\\n1348,1374,2016-09-08,1454,218,8,-69.0,854.0,1484 days,1484\\n1349,1377,2016-09-09,1455,219,8,-70.0,858.0,1485 days,1485\\n1350,1376,2016-09-10,1456,219,8,-69.0,859.0,1486 days,1486\\n1351,1375,2016-09-11,1457,220,8,-69.0,860.0,1487 days,1487\\n1352,1378,2016-09-12,1458,220,8,-69.0,859.0,1488 days,1488\\n1353,1379,2016-09-13,1459,221,8,-71.0,861.0,1489 days,1489\\n1354,1380,2016-09-14,1460,222,8,-70.0,865.0,1490 days,1490\\n1355,1382,2016-09-15,1461,222,8,-69.0,870.0,1491 days,1491\\n1356,1381,2016-09-16,1462,223,8,-68.0,871.0,1492 days,1492\\n1357,1383,2016-09-17,1463,224,8,-68.0,871.0,1493 days,1493\\n1358,1384,2016-09-18,1464,224,8,-71.0,871.0,1494 days,1494\\n1359,1385,2016-09-19,1465,225,8,-68.0,870.0,1495 days,1495\\n1360,1386,2016-09-20,1466,226,8,-67.0,873.0,1496 days,1496\\n1361,1387,2016-09-21,1467,226,8,-69.0,877.0,1497 days,1497\\n1362,1388,2016-09-22,1468,227,8,-70.0,879.0,1498 days,1498\\n1363,1389,2016-09-23,1469,228,8,-72.0,881.0,1499 days,1499\\n1364,1391,2016-09-24,1470,228,8,-70.0,879.0,1500 days,1500\\n1365,1392,2016-09-25,1471,229,8,-71.0,880.0,1501 days,1501\\n1366,1390,2016-09-26,1472,229,8,-68.0,879.0,1502 days,1502\\n1367,1393,2016-09-27,1473,230,8,-67.0,881.0,1503 days,1503\\n1368,1394,2016-09-28,1474,231,8,-68.0,889.0,1504 days,1504\\n1369,1396,2016-09-29,1475,231,8,-72.0,890.0,1505 days,1505\\n1370,1395,2016-09-30,1476,232,8,-69.0,888.0,1506 days,1506\\n1371,1397,2016-10-01,1477,233,8,-72.0,888.0,1507 days,1507\\n1372,1399,2016-10-02,1478,233,8,-68.0,887.0,1508 days,1508\\n1373,1398,2016-10-03,1479,234,8,-66.0,890.0,1509 days,1509\\n1374,1400,2016-10-04,1480,235,8,-68.0,893.0,1510 days,1510\\n1375,1401,2016-10-05,1481,235,8,-70.0,893.0,1511 days,1511\\n1376,1403,2016-10-06,1482,236,8,-68.0,893.0,1512 days,1512\\n1377,1402,2016-10-07,1483,237,8,-68.0,892.0,1513 days,1513\\n1378,1404,2016-10-08,1484,237,8,-68.0,895.0,1514 days,1514\\n1379,1405,2016-10-09,1485,238,8,-71.0,899.0,1515 days,1515\\n1380,1406,2016-10-10,1486,239,8,-71.0,901.0,1516 days,1516\\n1381,1407,2016-10-11,1487,239,8,-68.0,901.0,1517 days,1517\\n1382,1408,2016-10-12,1488,240,9,-69.0,902.0,1518 days,1518\\n1383,1410,2016-10-14,1489,240,9,-68.0,903.0,1520 days,1520\\n1384,1411,2016-10-15,1490,241,9,-66.0,904.0,1521 days,1521\\n1385,1409,2016-10-16,1491,242,9,-69.0,906.0,1522 days,1522\\n1386,1412,2016-10-17,1492,242,9,-68.0,910.0,1523 days,1523\\n1387,1413,2016-10-18,1493,243,9,-70.0,905.0,1524 days,1524\\n1388,1414,2016-10-19,1494,244,9,-70.0,904.0,1525 days,1525\\n1389,1416,2016-10-20,1495,244,9,-71.0,903.0,1526 days,1526\\n1390,1415,2016-10-21,1496,245,9,-72.0,906.0,1527 days,1527\\n1391,1417,2016-10-22,1497,246,9,-68.0,909.0,1528 days,1528\\n1392,1418,2016-10-23,1498,246,9,-68.0,907.0,1529 days,1529\\n1393,1419,2016-10-24,1499,247,9,-69.0,903.0,1530 days,1530\\n1394,1420,2016-10-25,1500,248,9,-70.0,903.0,1531 days,1531\\n1395,1421,2016-10-26,1501,248,9,-69.0,903.0,1532 days,1532\\n1396,1422,2016-10-27,1502,249,9,-69.0,907.0,1533 days,1533\\n1397,1424,2016-10-28,1503,250,9,-70.0,909.0,1534 days,1534\\n1398,1423,2016-10-29,1504,250,9,-69.0,910.0,1535 days,1535\\n1399,1425,2016-10-30,1505,251,9,-69.0,906.0,1536 days,1536\\n1400,1426,2016-10-31,1506,252,9,-71.0,907.0,1537 days,1537\\n1401,1427,2016-11-01,1507,252,9,-70.0,907.0,1538 days,1538\\n1402,1428,2016-11-02,1508,253,9,-70.0,907.0,1539 days,1539\\n1403,1430,2016-11-03,1509,254,9,-70.0,910.0,1540 days,1540\\n1404,1431,2016-11-04,1510,254,9,-70.0,908.0,1541 days,1541\\n1405,1429,2016-11-05,1511,255,9,-77.0,908.0,1542 days,1542\\n1406,1432,2016-11-06,1512,255,9,-78.0,906.0,1543 days,1543\\n1407,1433,2016-11-07,1513,256,9,-74.0,907.0,1544 days,1544\\n1408,1434,2016-11-08,1514,257,9,-73.0,906.0,1545 days,1545\\n1409,1435,2016-11-09,1515,257,9,-76.0,906.0,1546 days,1546\\n1410,1436,2016-11-10,1516,258,9,-71.0,909.0,1547 days,1547\\n1411,1437,2016-11-11,1517,259,9,-76.0,911.0,1548 days,1548\\n1412,1438,2016-11-12,1518,259,9,-78.0,909.0,1549 days,1549\\n1413,1440,2016-11-13,1519,260,9,-72.0,906.0,1550 days,1550\\n1414,1439,2016-11-14,1520,261,9,-73.0,905.0,1551 days,1551\\n1415,1441,2016-11-15,1521,261,9,-71.0,905.0,1552 days,1552\\n1416,1442,2016-11-16,1522,262,9,-71.0,905.0,1553 days,1553\\n1417,1443,2016-11-17,1523,263,9,-77.0,905.0,1554 days,1554\\n1418,1444,2016-11-18,1524,263,9,-76.0,904.0,1555 days,1555\\n1419,1445,2016-11-20,1525,264,9,-74.0,902.0,1557 days,1557\\n1420,1446,2016-11-21,1526,265,9,-72.0,900.0,1558 days,1558\\n1421,1449,2016-11-22,1527,265,9,-71.0,900.0,1559 days,1559\\n1422,1450,2016-11-23,1528,266,9,-72.0,898.0,1560 days,1560\\n1423,1451,2016-11-24,1529,267,9,-73.0,900.0,1561 days,1561\\n1424,1452,2016-11-25,1530,267,9,-71.0,899.0,1562 days,1562\\n1425,1447,2016-11-26,1531,268,9,-76.0,900.0,1563 days,1563\\n1426,1448,2016-11-27,1532,268,9,-72.0,900.0,1564 days,1564\\n1427,1453,2016-11-28,1533,269,9,-72.0,896.0,1565 days,1565\\n1428,1454,2016-11-29,1534,270,10,-73.0,898.0,1566 days,1566\\n1429,1455,2016-11-30,1535,270,10,-73.0,900.0,1567 days,1567\\n1430,1456,2016-12-01,1536,271,10,-71.0,901.0,1568 days,1568\\n1431,1458,2016-12-02,1537,272,10,-74.0,900.0,1569 days,1569\\n1432,1457,2016-12-03,1538,272,10,-73.0,898.0,1570 days,1570\\n1433,1459,2016-12-04,1539,273,10,-74.0,896.0,1571 days,1571\\n1434,1460,2016-12-05,1540,274,10,-72.0,896.0,1572 days,1572\\n1435,1461,2016-12-06,1541,274,10,-76.0,895.0,1573 days,1573\\n1436,1462,2016-12-07,1542,275,10,-73.0,895.0,1574 days,1574\\n1437,1464,2016-12-08,1543,276,10,-74.0,896.0,1575 days,1575\\n1438,1463,2016-12-09,1544,276,10,-71.0,894.0,1576 days,1576\\n1439,1465,2016-12-10,1545,277,10,-73.0,891.0,1577 days,1577\\n1440,1467,2016-12-11,1546,277,10,-73.0,889.0,1578 days,1578\\n1441,1466,2016-12-12,1547,278,10,-75.0,887.0,1579 days,1579\\n1442,1468,2016-12-13,1548,279,10,-76.0,887.0,1580 days,1580\\n1443,1469,2016-12-14,1549,279,10,-76.0,887.0,1581 days,1581\\n1444,1472,2016-12-15,1550,280,10,-71.0,888.0,1582 days,1582\\n1445,1471,2016-12-16,1551,281,10,-71.0,886.0,1583 days,1583\\n1446,1470,2016-12-17,1552,281,10,-74.0,886.0,1584 days,1584\\n1447,1474,2016-12-18,1553,282,10,-77.0,884.0,1585 days,1585\\n1448,1473,2016-12-19,1554,283,10,-70.0,882.0,1586 days,1586\\n1449,1477,2016-12-20,1555,283,10,-71.0,883.0,1587 days,1587\\n1450,1478,2016-12-21,1556,284,10,-72.0,883.0,1588 days,1588\\n1451,1475,2016-12-22,1557,284,10,-70.0,883.0,1589 days,1589\\n1452,1476,2016-12-23,1558,285,10,-72.0,880.0,1590 days,1590\\n1453,1484,2016-12-24,1559,286,10,-76.0,879.0,1591 days,1591\\n1454,1482,2016-12-25,1560,286,10,-76.0,877.0,1592 days,1592\\n1455,1485,2016-12-27,1561,287,10,-77.0,877.0,1594 days,1594\\n1456,1479,2016-12-28,1562,288,10,-73.0,877.0,1595 days,1595\\n1457,1483,2016-12-29,1563,288,10,-75.0,879.0,1596 days,1596\\n1458,1481,2016-12-30,1564,289,10,-70.0,877.0,1597 days,1597\\n1459,1480,2016-12-31,1565,290,10,-72.0,874.0,1598 days,1598\\n1460,1487,2017-01-01,1566,290,10,-76.0,876.0,1599 days,1599\\n1461,1486,2017-01-02,1567,291,10,-70.0,872.0,1600 days,1600\\n1462,1488,2017-01-03,1568,291,10,-71.0,876.0,1601 days,1601\\n1463,1492,2017-01-04,1569,292,10,-70.0,873.0,1602 days,1602\\n1464,1491,2017-01-05,1570,293,10,-71.0,873.0,1603 days,1603\\n1465,1490,2017-01-06,1571,293,10,-70.0,873.0,1604 days,1604\\n1466,1489,2017-01-07,1572,294,10,-81.0,869.0,1605 days,1605\\n1467,1493,2017-01-08,1573,295,10,-74.0,872.0,1606 days,1606\\n1468,1495,2017-01-09,1574,295,10,-72.0,868.0,1607 days,1607\\n1469,1494,2017-01-10,1575,296,10,-73.0,871.0,1608 days,1608\\n1470,1496,2017-01-11,1576,296,10,-72.0,869.0,1609 days,1609\\n1471,1498,2017-01-12,1577,297,10,-72.0,866.0,1610 days,1610\\n1472,1499,2017-01-13,1578,298,10,-74.0,868.0,1611 days,1611\\n1473,1500,2017-01-14,1579,298,10,-73.0,862.0,1612 days,1612\\n1474,1497,2017-01-15,1580,299,10,-72.0,867.0,1613 days,1613\\n1475,1501,2017-01-16,1581,299,10,-72.0,862.0,1614 days,1614\\n1476,1503,2017-01-17,1582,300,11,-74.0,862.0,1615 days,1615\\n1477,1502,2017-01-18,1583,301,11,-75.0,862.0,1616 days,1616\\n1478,1505,2017-01-19,1584,301,11,-77.0,860.0,1617 days,1617\\n1479,1506,2017-01-20,1585,302,11,-76.0,864.0,1618 days,1618\\n1480,1504,2017-01-21,1586,303,11,-72.0,858.0,1619 days,1619\\n1481,1508,2017-01-22,1587,303,11,-73.0,860.0,1620 days,1620\\n1482,1507,2017-01-23,1588,304,11,-72.0,858.0,1621 days,1621\\n1483,1510,2017-01-24,1589,304,11,-72.0,857.0,1622 days,1622\\n1484,1509,2017-01-25,1590,305,11,-76.0,860.0,1623 days,1623\\n1485,1512,2017-01-26,1591,306,11,-73.0,852.0,1624 days,1624\\n1486,1511,2017-01-27,1592,306,11,-71.0,857.0,1625 days,1625\\n1487,1513,2017-01-28,1593,307,11,-72.0,852.0,1626 days,1626\\n1488,1514,2017-01-29,1594,307,11,-74.0,855.0,1627 days,1627\\n1489,1515,2017-01-30,1595,308,11,-71.0,855.0,1628 days,1628\\n1490,1516,2017-01-31,1596,309,11,-74.0,850.0,1629 days,1629\\n1491,1517,2017-02-01,1597,309,11,-73.0,855.0,1630 days,1630\\n1492,1519,2017-02-03,1598,310,11,-70.0,849.0,1632 days,1632\\n1493,1518,2017-02-04,1599,310,11,-72.0,853.0,1633 days,1633\\n1494,1520,2017-02-05,1600,311,11,-71.0,850.0,1634 days,1634\\n1495,1522,2017-02-06,1601,312,11,-71.0,853.0,1635 days,1635\\n1496,1521,2017-02-07,1602,312,11,-77.0,852.0,1636 days,1636\\n1497,1523,2017-02-08,1603,313,11,-76.0,847.0,1637 days,1637\\n1498,1524,2017-02-09,1604,313,11,-77.0,850.0,1638 days,1638\\n1499,1526,2017-02-10,1605,314,11,-73.0,846.0,1639 days,1639\\n1500,1525,2017-02-11,1606,315,11,-75.0,850.0,1640 days,1640\\n1501,1528,2017-02-12,1607,315,11,-77.0,846.0,1641 days,1641\\n1502,1527,2017-02-13,1608,316,11,-72.0,847.0,1642 days,1642\\n1503,1529,2017-02-14,1609,316,11,-71.0,847.0,1643 days,1643\\n1504,1534,2017-02-18,1613,319,11,-72.0,846.0,1647 days,1647\\n1505,1533,2017-02-19,1614,319,11,-73.0,837.0,1648 days,1648\\n1506,1536,2017-02-20,1615,320,11,-73.0,842.0,1649 days,1649\\n1507,1535,2017-02-21,1616,320,11,-73.0,848.0,1650 days,1650\\n1508,1537,2017-02-22,1617,321,11,-72.0,840.0,1651 days,1651\\n1509,1540,2017-02-23,1618,322,11,-71.0,845.0,1652 days,1652\\n1510,1538,2017-02-24,1619,322,11,-73.0,841.0,1653 days,1653\\n1511,1539,2017-02-25,1620,323,11,-70.0,844.0,1654 days,1654\\n1512,1541,2017-02-26,1621,323,11,-73.0,842.0,1655 days,1655\\n1513,1542,2017-02-27,1622,324,11,-71.0,841.0,1656 days,1656\\n1514,1544,2017-02-28,1623,324,11,-71.0,840.0,1657 days,1657\\n1515,1543,2017-03-01,1624,325,11,-72.0,837.0,1658 days,1658\\n1516,1546,2017-03-02,1625,326,11,-71.0,839.0,1659 days,1659\\n1517,1545,2017-03-03,1626,326,11,-71.0,839.0,1660 days,1660\\n1518,1547,2017-03-04,1627,327,11,-72.0,838.0,1661 days,1661\\n1519,1549,2017-03-05,1628,327,11,-71.0,839.0,1662 days,1662\\n1520,1548,2017-03-06,1629,328,11,-74.0,837.0,1663 days,1663\\n1521,1551,2017-03-07,1630,328,11,-77.0,838.0,1664 days,1664\\n1522,1550,2017-03-08,1631,329,11,-77.0,837.0,1665 days,1665\\n1523,1552,2017-03-09,1632,330,12,-72.0,836.0,1666 days,1666\\n1524,1554,2017-03-10,1633,330,12,-75.0,834.0,1667 days,1667\\n1525,1553,2017-03-12,1634,331,12,-72.0,834.0,1669 days,1669\\n1526,1555,2017-03-13,1635,331,12,-73.0,833.0,1670 days,1670\\n1527,1556,2017-03-14,1636,332,12,-72.0,834.0,1671 days,1671\\n1528,1557,2017-03-15,1637,332,12,-73.0,833.0,1672 days,1672\\n1529,1559,2017-03-16,1638,333,12,-73.0,833.0,1673 days,1673\\n1530,1558,2017-03-17,1639,334,12,-71.0,832.0,1674 days,1674\\n1531,1561,2017-03-18,1640,334,12,-72.0,832.0,1675 days,1675\\n1532,1560,2017-03-19,1641,335,12,-72.0,831.0,1676 days,1676\\n1533,1564,2017-03-20,1642,335,12,-72.0,829.0,1677 days,1677\\n1534,1563,2017-03-21,1643,336,12,-74.0,832.0,1678 days,1678\\n1535,1562,2017-03-22,1644,336,12,-74.0,832.0,1679 days,1679\\n1536,1567,2017-03-23,1645,337,12,-74.0,832.0,1680 days,1680\\n1537,1565,2017-03-24,1646,337,12,-74.0,831.0,1681 days,1681\\n1538,1566,2017-03-25,1647,338,12,-73.0,831.0,1682 days,1682\\n1539,1568,2017-03-26,1648,339,12,-73.0,830.0,1683 days,1683\\n1540,1569,2017-03-27,1649,339,12,-74.0,830.0,1684 days,1684\\n1541,1570,2017-03-28,1650,340,12,-75.0,833.0,1685 days,1685\\n1542,1571,2017-03-29,1651,340,12,-77.0,833.0,1686 days,1686\\n1543,1572,2017-03-30,1652,341,12,-76.0,834.0,1687 days,1687\\n1544,1573,2017-03-31,1653,341,12,-75.0,833.0,1688 days,1688\\n1545,1575,2017-04-01,1654,342,12,-75.0,829.0,1689 days,1689\\n1546,1574,2017-04-02,1655,342,12,-76.0,831.0,1690 days,1690\\n1547,1576,2017-04-03,1656,343,12,-75.0,832.0,1691 days,1691\\n1548,1578,2017-04-04,1657,343,12,-75.0,836.0,1692 days,1692\\n1549,1577,2017-04-05,1658,344,12,-77.0,835.0,1693 days,1693\\n1550,1579,2017-04-06,1659,345,12,-77.0,832.0,1694 days,1694\\n1551,1581,2017-04-07,1660,345,12,-74.0,832.0,1695 days,1695\\n1552,1580,2017-04-08,1661,346,12,-75.0,831.0,1696 days,1696\\n1553,1583,2017-04-09,1662,346,12,-75.0,831.0,1697 days,1697\\n1554,1584,2017-04-10,1663,347,12,-74.0,832.0,1698 days,1698\\n1555,1586,2017-04-11,1664,347,12,-74.0,832.0,1699 days,1699\\n1556,1585,2017-04-12,1665,348,12,-76.0,833.0,1700 days,1700\\n1557,1582,2017-04-13,1666,348,12,-76.0,834.0,1701 days,1701\\n1558,1588,2017-04-14,1667,349,12,-76.0,833.0,1702 days,1702\\n1559,1587,2017-04-15,1668,349,12,-77.0,831.0,1703 days,1703\\n1560,1589,2017-04-16,1669,350,12,-74.0,833.0,1704 days,1704\\n1561,1590,2017-04-18,1670,350,12,-76.0,834.0,1706 days,1706\\n1562,1591,2017-04-19,1671,351,12,-76.0,832.0,1707 days,1707\\n1563,1592,2017-04-20,1672,351,12,-74.0,833.0,1708 days,1708\\n1564,1594,2017-04-21,1673,352,12,-75.0,836.0,1709 days,1709\\n1565,1593,2017-04-22,1674,352,12,-75.0,835.0,1710 days,1710\\n1566,1595,2017-04-23,1675,353,12,-75.0,835.0,1711 days,1711\\n1567,1596,2017-04-24,1676,354,12,-76.0,837.0,1712 days,1712\\n1568,1597,2017-04-25,1677,354,12,-74.0,835.0,1713 days,1713\\n1569,1598,2017-04-26,1678,355,12,-74.0,836.0,1714 days,1714\\n1570,1599,2017-04-27,1679,355,12,-75.0,836.0,1715 days,1715\\n1571,1601,2017-04-28,1680,356,12,-74.0,835.0,1716 days,1716\\n1572,1602,2017-04-29,1681,356,12,-74.0,837.0,1717 days,1717\\n1573,1603,2017-04-30,1682,357,12,-76.0,839.0,1718 days,1718\\n1574,1600,2017-05-01,1683,357,12,-75.0,837.0,1719 days,1719\\n1575,1604,2017-05-02,1684,358,12,-75.0,837.0,1720 days,1720\\n1576,1605,2017-05-03,1685,358,12,-77.0,838.0,1721 days,1721\\n1577,1607,2017-05-04,1686,359,12,-75.0,838.0,1722 days,1722\\n1578,1608,2017-05-05,1687,359,12,-75.0,838.0,1723 days,1723\\n1579,1606,2017-05-06,1688,0,1,-76.0,840.0,1724 days,1724\\n1580,1610,2017-05-07,1689,0,1,-75.0,840.0,1725 days,1725\\n1581,1609,2017-05-08,1690,1,1,-76.0,840.0,1726 days,1726\\n1582,1614,2017-05-10,1692,2,1,-62.0,820.0,1728 days,1728\\n1583,1612,2017-05-11,1693,2,1,-76.0,840.0,1729 days,1729\\n1584,1613,2017-05-12,1694,3,1,-76.0,840.0,1730 days,1730\\n1585,1611,2017-05-13,1695,3,1,-77.0,840.0,1731 days,1731\\n1586,1615,2017-05-14,1696,4,1,-75.0,841.0,1732 days,1732\\n1587,1616,2017-05-15,1697,4,1,-77.0,841.0,1733 days,1733\\n1588,1618,2017-05-16,1698,5,1,-77.0,842.0,1734 days,1734\\n1589,1617,2017-05-17,1699,5,1,-76.0,843.0,1735 days,1735\\n1590,1619,2017-05-18,1700,6,1,-76.0,842.0,1736 days,1736\\n1591,1620,2017-05-19,1701,6,1,-76.0,841.0,1737 days,1737\\n1592,1621,2017-05-20,1702,7,1,-75.0,842.0,1738 days,1738\\n1593,1622,2017-05-21,1703,7,1,-76.0,843.0,1739 days,1739\\n1594,1625,2017-05-22,1704,8,1,-77.0,844.0,1740 days,1740\\n1595,1623,2017-05-23,1705,8,1,-76.0,845.0,1741 days,1741\\n1596,1624,2017-05-24,1706,9,1,-77.0,845.0,1742 days,1742\\n1597,1627,2017-05-26,1707,9,1,-77.0,846.0,1744 days,1744\\n1598,1626,2017-05-27,1708,10,1,-76.0,846.0,1745 days,1745\\n1599,1628,2017-05-28,1709,10,1,-76.0,847.0,1746 days,1746\\n1600,1629,2017-05-29,1710,11,1,-76.0,848.0,1747 days,1747\\n1601,1631,2017-05-30,1711,11,1,-75.0,848.0,1748 days,1748\\n1602,1630,2017-05-31,1712,12,1,-77.0,849.0,1749 days,1749\\n1603,1635,2017-06-01,1713,12,1,-75.0,850.0,1750 days,1750\\n1604,1633,2017-06-02,1714,13,1,-77.0,849.0,1751 days,1751\\n1605,1634,2017-06-03,1715,13,1,-77.0,851.0,1752 days,1752\\n1606,1632,2017-06-04,1716,14,1,-76.0,850.0,1753 days,1753\\n1607,1636,2017-06-05,1717,14,1,-76.0,851.0,1754 days,1754\\n1608,1637,2017-06-06,1718,15,1,-77.0,852.0,1755 days,1755\\n1609,1639,2017-06-07,1719,15,1,-77.0,853.0,1756 days,1756\\n1610,1638,2017-06-08,1720,16,1,-76.0,853.0,1757 days,1757\\n1611,1641,2017-06-09,1721,16,1,-76.0,852.0,1758 days,1758\\n1612,1640,2017-06-10,1722,17,1,-77.0,854.0,1759 days,1759\\n1613,1642,2017-06-11,1723,17,1,-76.0,854.0,1760 days,1760\\n1614,1643,2017-06-12,1724,18,1,-77.0,856.0,1761 days,1761\\n1615,1644,2017-06-13,1725,18,1,-79.0,857.0,1762 days,1762\\n1616,1645,2017-06-14,1726,19,1,-76.0,855.0,1763 days,1763\\n1617,1647,2017-06-15,1727,19,1,-75.0,855.0,1764 days,1764\\n1618,1648,2017-06-16,1728,20,1,-76.0,855.0,1765 days,1765\\n1619,1646,2017-06-17,1729,20,1,-76.0,858.0,1766 days,1766\\n1620,1650,2017-06-18,1730,21,1,-77.0,858.0,1767 days,1767\\n1621,1649,2017-06-19,1731,21,1,-78.0,857.0,1768 days,1768\\n1622,1651,2017-06-20,1732,22,1,-78.0,858.0,1769 days,1769\\n1623,1652,2017-06-21,1733,22,1,-77.0,859.0,1770 days,1770\\n1624,1655,2017-06-22,1734,23,1,-78.0,859.0,1771 days,1771\\n1625,1653,2017-06-23,1735,23,1,-78.0,861.0,1772 days,1772\\n1626,1654,2017-06-24,1736,23,1,-77.0,860.0,1773 days,1773\\n1627,1656,2017-06-25,1737,24,1,-78.0,861.0,1774 days,1774\\n1628,1657,2017-06-26,1738,24,1,-78.0,861.0,1775 days,1775\\n1629,1658,2017-06-27,1739,25,1,-77.0,861.0,1776 days,1776\\n1630,1662,2017-06-28,1740,25,1,-78.0,861.0,1777 days,1777\\n1631,1659,2017-06-29,1741,26,1,-78.0,863.0,1778 days,1778\\n1632,1661,2017-06-30,1742,26,1,-77.0,865.0,1779 days,1779\\n1633,1660,2017-07-02,1743,27,1,-78.0,863.0,1781 days,1781\\n1634,1663,2017-07-03,1744,27,1,-78.0,863.0,1782 days,1782\\n1635,1664,2017-07-04,1745,28,1,-78.0,865.0,1783 days,1783\\n1636,1665,2017-07-05,1746,28,1,-76.0,866.0,1784 days,1784\\n1637,1666,2017-07-06,1747,29,1,-79.0,866.0,1785 days,1785\\n1638,1668,2017-07-07,1748,29,1,-79.0,867.0,1786 days,1786\\n1639,1667,2017-07-08,1749,30,2,-76.0,867.0,1787 days,1787\\n1640,1669,2017-07-09,1750,30,2,-77.0,867.0,1788 days,1788\\n1641,1670,2017-07-10,1751,31,2,-78.0,867.0,1789 days,1789\\n1642,1671,2017-07-11,1752,31,2,-80.0,867.0,1790 days,1790\\n1643,1672,2017-07-12,1753,32,2,-76.0,868.0,1791 days,1791\\n1644,1673,2017-07-13,1754,32,2,-78.0,870.0,1792 days,1792\\n1645,1674,2017-07-14,1755,32,2,-77.0,870.0,1793 days,1793\\n1646,1675,2017-07-15,1756,33,2,-78.0,871.0,1794 days,1794\\n1647,1676,2017-07-16,1757,33,2,-78.0,871.0,1795 days,1795\\n1648,1677,2017-07-17,1758,34,2,-78.0,871.0,1796 days,1796\\n1649,1678,2017-07-18,1759,34,2,-77.0,871.0,1797 days,1797\\n1650,1679,2017-07-19,1760,35,2,-78.0,872.0,1798 days,1798\\n1651,1684,2017-07-20,1761,35,2,-77.0,872.0,1799 days,1799\\n1652,1687,2017-07-21,1762,36,2,-77.0,872.0,1800 days,1800\\n1653,1680,2017-07-22,1763,36,2,-78.0,873.0,1801 days,1801\\n1654,1682,2017-07-23,1764,37,2,-79.0,872.0,1802 days,1802\\n1655,1690,2017-07-24,1765,37,2,-77.0,873.0,1803 days,1803\\n1656,1688,2017-07-25,1766,38,2,-79.0,873.0,1804 days,1804\\n1657,1691,2017-07-26,1767,38,2,-77.0,874.0,1805 days,1805\\n1658,1683,2017-07-27,1768,39,2,-78.0,875.0,1806 days,1806\\n1659,1689,2017-07-28,1769,39,2,-76.0,875.0,1807 days,1807\\n1660,1686,2017-07-29,1770,39,2,-79.0,875.0,1808 days,1808\\n1661,1692,2017-07-30,1771,40,2,-79.0,876.0,1809 days,1809\\n1662,1681,2017-07-31,1772,40,2,-78.0,876.0,1810 days,1810\\n1663,1685,2017-08-01,1773,41,2,-78.0,876.0,1811 days,1811\\n1664,1693,2017-08-02,1774,41,2,-79.0,877.0,1812 days,1812\\n1665,1694,2017-08-03,1775,42,2,-80.0,877.0,1813 days,1813\\n1666,1696,2017-08-04,1776,42,2,-79.0,877.0,1814 days,1814\\n1667,1695,2017-08-05,1777,43,2,-79.0,877.0,1815 days,1815\\n1668,1697,2017-08-06,1778,43,2,-81.0,877.0,1816 days,1816\\n1669,1698,2017-08-07,1779,44,2,-78.0,878.0,1817 days,1817\\n1670,1699,2017-08-09,1780,44,2,-77.0,879.0,1819 days,1819\\n1671,1700,2017-08-10,1781,45,2,-78.0,879.0,1820 days,1820\\n1672,1701,2017-08-11,1782,45,2,-78.0,878.0,1821 days,1821\\n1673,1703,2017-08-12,1783,45,2,-79.0,879.0,1822 days,1822\\n1674,1702,2017-08-13,1784,46,2,-80.0,883.0,1823 days,1823\\n1675,1704,2017-08-14,1785,46,2,-77.0,881.0,1824 days,1824\\n1676,1705,2017-08-16,1787,47,2,-79.0,881.0,1826 days,1826\\n1677,1706,2017-08-17,1788,48,2,-79.0,881.0,1827 days,1827\\n1678,1708,2017-08-18,1789,48,2,-79.0,881.0,1828 days,1828\\n1679,1707,2017-08-19,1790,49,2,-81.0,882.0,1829 days,1829\\n1680,1709,2017-08-20,1791,49,2,-79.0,882.0,1830 days,1830\\n1681,1710,2017-08-21,1792,50,2,-80.0,883.0,1831 days,1831\\n1682,1711,2017-08-22,1793,50,2,-80.0,883.0,1832 days,1832\\n1683,1712,2017-08-23,1794,50,2,-80.0,883.0,1833 days,1833\\n1684,1714,2017-08-24,1795,51,2,-81.0,882.0,1834 days,1834\\n1685,1715,2017-08-25,1796,51,2,-80.0,883.0,1835 days,1835\\n1686,1713,2017-08-26,1797,52,2,-79.0,884.0,1836 days,1836\\n1687,1716,2017-08-27,1798,52,2,-79.0,883.0,1837 days,1837\\n1688,1717,2017-08-28,1799,53,2,-78.0,883.0,1838 days,1838\\n1689,1718,2017-08-29,1800,53,2,-80.0,883.0,1839 days,1839\\n1690,1719,2017-08-30,1801,54,2,-80.0,882.0,1840 days,1840\\n1691,1722,2017-08-31,1802,54,2,-79.0,882.0,1841 days,1841\\n1692,1723,2017-09-01,1803,55,2,-78.0,882.0,1842 days,1842\\n1693,1720,2017-09-02,1804,55,2,-78.0,883.0,1843 days,1843\\n1694,1721,2017-09-03,1805,55,2,-78.0,883.0,1844 days,1844\\n1695,1724,2017-09-04,1806,56,2,-80.0,884.0,1845 days,1845\\n1696,1725,2017-09-05,1807,56,2,-78.0,884.0,1846 days,1846\\n1697,1726,2017-09-06,1808,57,2,-79.0,884.0,1847 days,1847\\n1698,1728,2017-09-07,1809,57,2,-80.0,884.0,1848 days,1848\\n1699,1729,2017-09-08,1810,58,2,-78.0,883.0,1849 days,1849\\n1700,1727,2017-09-09,1811,58,2,-79.0,882.0,1850 days,1850\\n1701,1730,2017-09-10,1812,59,2,-79.0,882.0,1851 days,1851\\n1702,1731,2017-09-11,1813,59,2,-80.0,881.0,1852 days,1852\\n1703,1732,2017-09-12,1814,59,2,-80.0,881.0,1853 days,1853\\n1704,1733,2017-09-13,1815,60,3,-81.0,881.0,1854 days,1854\\n1705,1734,2017-09-15,1816,60,3,-82.0,882.0,1856 days,1856\\n1706,1735,2017-09-16,1817,61,3,-80.0,882.0,1857 days,1857\\n1707,1736,2017-09-17,1818,61,3,-81.0,881.0,1858 days,1858\\n1708,1737,2017-09-18,1819,62,3,-82.0,880.0,1859 days,1859\\n1709,1738,2017-09-19,1820,62,3,-79.0,881.0,1860 days,1860\\n1710,1740,2017-09-20,1821,63,3,-81.0,882.0,1861 days,1861\\n1711,1739,2017-09-21,1822,63,3,-78.0,881.0,1862 days,1862\\n1712,1743,2017-09-22,1823,64,3,-80.0,879.0,1863 days,1863\\n1713,1742,2017-09-23,1824,64,3,-80.0,879.0,1864 days,1864\\n1714,1741,2017-09-24,1825,64,3,-80.0,878.0,1865 days,1865\\n1715,1744,2017-09-25,1826,65,3,-80.0,878.0,1866 days,1866\\n1716,1745,2017-09-26,1827,65,3,-80.0,879.0,1867 days,1867\\n1717,1746,2017-09-27,1828,66,3,-80.0,878.0,1868 days,1868\\n1718,1749,2017-09-28,1829,66,3,-78.0,877.0,1869 days,1869\\n1719,1748,2017-09-29,1830,67,3,-80.0,877.0,1870 days,1870\\n1720,1747,2017-09-30,1831,67,3,-80.0,876.0,1871 days,1871\\n1721,1750,2017-10-01,1832,68,3,-84.0,875.0,1872 days,1872\\n1722,1751,2017-10-02,1833,68,3,-81.0,875.0,1873 days,1873\\n1723,1752,2017-10-03,1834,68,3,-80.0,875.0,1874 days,1874\\n1724,1753,2017-10-04,1835,69,3,-80.0,873.0,1875 days,1875\\n1725,1755,2017-10-05,1836,69,3,-81.0,873.0,1876 days,1876\\n1726,1756,2017-10-06,1837,70,3,-81.0,872.0,1877 days,1877\\n1727,1754,2017-10-07,1838,70,3,-79.0,872.0,1878 days,1878\\n1728,1757,2017-10-08,1839,71,3,-80.0,872.0,1879 days,1879\\n1729,1758,2017-10-09,1840,71,3,-77.0,871.0,1880 days,1880\\n1730,1759,2017-10-10,1841,72,3,-77.0,870.0,1881 days,1881\\n1731,1761,2017-10-11,1842,72,3,-79.0,869.0,1882 days,1882\\n1732,1760,2017-10-12,1843,72,3,-80.0,869.0,1883 days,1883\\n1733,1762,2017-10-13,1844,73,3,-81.0,869.0,1884 days,1884\\n1734,1763,2017-10-14,1845,73,3,-80.0,868.0,1885 days,1885\\n1735,1765,2017-10-15,1846,74,3,-80.0,868.0,1886 days,1886\\n1736,1764,2017-10-16,1847,74,3,-80.0,866.0,1887 days,1887\\n1737,1766,2017-10-17,1848,75,3,-80.0,865.0,1888 days,1888\\n1738,1770,2017-10-18,1849,75,3,-80.0,864.0,1889 days,1889\\n1739,1768,2017-10-19,1850,76,3,-80.0,864.0,1890 days,1890\\n1740,1767,2017-10-20,1851,76,3,-87.0,864.0,1891 days,1891\\n1741,1769,2017-10-22,1852,77,3,-80.0,863.0,1893 days,1893\\n1742,1771,2017-10-23,1853,77,3,-80.0,862.0,1894 days,1894\\n1743,1772,2017-10-24,1854,77,3,-80.0,861.0,1895 days,1895\\n1744,1773,2017-10-25,1855,78,3,-78.0,861.0,1896 days,1896\\n1745,1774,2017-10-26,1856,78,3,-80.0,859.0,1897 days,1897\\n1746,1776,2017-10-27,1857,79,3,-80.0,858.0,1898 days,1898\\n1747,1775,2017-10-28,1858,79,3,-81.0,857.0,1899 days,1899\\n1748,1779,2017-10-29,1859,80,3,-79.0,857.0,1900 days,1900\\n1749,1778,2017-10-30,1860,80,3,-80.0,857.0,1901 days,1901\\n1750,1780,2017-10-31,1861,81,3,-79.0,855.0,1902 days,1902\\n1751,1777,2017-11-01,1862,81,3,-81.0,854.0,1903 days,1903\\n1752,1781,2017-11-02,1863,81,3,-80.0,853.0,1904 days,1904\\n1753,1782,2017-11-03,1864,82,3,-82.0,852.0,1905 days,1905\\n1754,1783,2017-11-04,1865,82,3,-80.0,852.0,1906 days,1906\\n1755,1785,2017-11-05,1866,83,3,-80.0,850.0,1907 days,1907\\n1756,1784,2017-11-06,1867,83,3,-78.0,848.0,1908 days,1908\\n1757,1786,2017-11-07,1868,84,3,-80.0,848.0,1909 days,1909\\n1758,1787,2017-11-08,1869,84,3,-81.0,846.0,1910 days,1910\\n1759,1788,2017-11-09,1870,85,3,-81.0,845.0,1911 days,1911\\n1760,1789,2017-11-10,1871,85,3,-80.0,844.0,1912 days,1912\\n1761,1791,2017-11-11,1872,86,3,-79.0,843.0,1913 days,1913\\n1762,1790,2017-11-12,1873,86,3,-79.0,842.0,1914 days,1914\\n1763,1792,2017-11-13,1874,86,3,-80.0,840.0,1915 days,1915\\n1764,1793,2017-11-14,1875,87,3,-79.0,839.0,1916 days,1916\\n1765,1794,2017-11-15,1876,87,3,-79.0,838.0,1917 days,1917\\n1766,1797,2017-11-16,1877,88,3,-79.0,837.0,1918 days,1918\\n1767,1795,2017-11-17,1878,88,3,-79.0,835.0,1919 days,1919\\n1768,1796,2017-11-18,1879,89,3,-79.0,834.0,1920 days,1920\\n1769,1798,2017-11-19,1880,89,3,-79.0,833.0,1921 days,1921\\n1770,1803,2017-11-20,1881,90,4,-79.0,832.0,1922 days,1922\\n1771,1801,2017-11-21,1882,90,4,-78.0,831.0,1923 days,1923\\n1772,1800,2017-11-22,1883,91,4,-78.0,830.0,1924 days,1924\\n1773,1799,2017-11-23,1884,91,4,-79.0,829.0,1925 days,1925\\n1774,1804,2017-11-24,1885,91,4,-79.0,827.0,1926 days,1926\\n1775,1805,2017-11-25,1886,92,4,-79.0,826.0,1927 days,1927\\n1776,1802,2017-11-26,1887,92,4,-79.0,824.0,1928 days,1928\\n1777,1807,2017-11-27,1888,93,4,-79.0,823.0,1929 days,1929\\n1778,1806,2017-11-29,1889,93,4,-80.0,822.0,1931 days,1931\\n1779,1808,2017-11-30,1890,94,4,-79.0,821.0,1932 days,1932\\n1780,1810,2017-12-01,1891,94,4,-80.0,819.0,1933 days,1933\\n1781,1809,2017-12-02,1892,95,4,-81.0,817.0,1934 days,1934\\n1782,1812,2017-12-03,1893,95,4,-79.0,816.0,1935 days,1935\\n1783,1811,2017-12-04,1894,96,4,-79.0,815.0,1936 days,1936\\n1784,1814,2017-12-05,1895,96,4,-78.0,814.0,1937 days,1937\\n1785,1813,2017-12-06,1896,96,4,-79.0,812.0,1938 days,1938\\n1786,1817,2017-12-07,1897,97,4,-80.0,811.0,1939 days,1939\\n1787,1816,2017-12-08,1898,97,4,-81.0,810.0,1940 days,1940\\n1788,1815,2017-12-09,1899,98,4,-81.0,808.0,1941 days,1941\\n1789,1818,2017-12-10,1900,98,4,-81.0,807.0,1942 days,1942\\n1790,1819,2017-12-11,1901,99,4,-81.0,806.0,1943 days,1943\\n1791,1820,2017-12-12,1902,99,4,-79.0,804.0,1944 days,1944\\n1792,1821,2017-12-13,1903,100,4,-78.0,803.0,1945 days,1945\\n1793,1822,2017-12-14,1904,100,4,-79.0,801.0,1946 days,1946\\n1794,1823,2017-12-15,1905,101,4,-80.0,800.0,1947 days,1947\\n1795,1824,2017-12-16,1906,101,4,-79.0,799.0,1948 days,1948\\n1796,1825,2017-12-17,1907,101,4,-79.0,798.0,1949 days,1949\\n1797,1826,2017-12-18,1908,102,4,-79.0,796.0,1950 days,1950\\n1798,1827,2017-12-19,1909,102,4,-80.0,795.0,1951 days,1951\\n1799,1828,2017-12-20,1910,103,4,-80.0,794.0,1952 days,1952\\n1800,1833,2017-12-21,1911,103,4,-79.0,792.0,1953 days,1953\\n1801,1832,2017-12-22,1912,104,4,-80.0,791.0,1954 days,1954\\n1802,1830,2017-12-23,1913,104,4,-79.0,791.0,1955 days,1955\\n1803,1834,2017-12-24,1914,105,4,-78.0,790.0,1956 days,1956\\n1804,1835,2017-12-25,1915,105,4,-78.0,788.0,1957 days,1957\\n1805,1829,2017-12-26,1916,106,4,-79.0,787.0,1958 days,1958\\n1806,1831,2017-12-27,1917,106,4,-80.0,786.0,1959 days,1959\\n1807,1839,2017-12-28,1918,107,4,-77.0,784.0,1960 days,1960\\n1808,1836,2017-12-29,1919,107,4,-77.0,783.0,1961 days,1961\\n1809,1837,2017-12-30,1920,108,4,-77.0,782.0,1962 days,1962\\n1810,1838,2017-12-31,1921,108,4,-78.0,781.0,1963 days,1963\\n1811,1840,2018-01-01,1922,108,4,-79.0,780.0,1964 days,1964\\n1812,1842,2018-01-02,1923,109,4,-77.0,778.0,1965 days,1965\\n1813,1841,2018-01-03,1924,109,4,-78.0,777.0,1966 days,1966\\n1814,1844,2018-01-05,1925,110,4,-79.0,777.0,1968 days,1968\\n1815,1843,2018-01-06,1926,110,4,-80.0,775.0,1969 days,1969\\n1816,1845,2018-01-07,1927,111,4,-79.0,774.0,1970 days,1970\\n1817,1847,2018-01-08,1928,111,4,-78.0,773.0,1971 days,1971\\n1818,1846,2018-01-09,1929,112,4,-79.0,771.0,1972 days,1972\\n1819,1848,2018-01-10,1930,112,4,-79.0,770.0,1973 days,1973\\n1820,1849,2018-01-11,1931,113,4,-79.0,770.0,1974 days,1974\\n1821,1850,2018-01-12,1932,113,4,-79.0,768.0,1975 days,1975\\n1822,1852,2018-01-13,1933,114,4,-78.0,767.0,1976 days,1976\\n1823,1851,2018-01-14,1934,114,4,-79.0,766.0,1977 days,1977\\n1824,1853,2018-01-15,1935,115,4,-80.0,765.0,1978 days,1978\\n1825,1855,2018-01-16,1936,115,4,-79.0,764.0,1979 days,1979\\n1826,1854,2018-01-17,1937,116,4,-80.0,763.0,1980 days,1980\\n1827,1859,2018-01-18,1938,116,4,-78.0,762.0,1981 days,1981\\n1828,1857,2018-01-19,1939,116,4,-78.0,760.0,1982 days,1982\\n1829,1858,2018-01-20,1940,117,4,-77.0,759.0,1983 days,1983\\n1830,1856,2018-01-21,1941,117,4,-77.0,758.0,1984 days,1984\\n1831,1860,2018-01-22,1942,118,4,-78.0,757.0,1985 days,1985\\n1832,1863,2018-01-23,1943,118,4,-78.0,756.0,1986 days,1986\\n1833,1861,2018-01-24,1944,119,4,-80.0,755.0,1987 days,1987\\n1834,1862,2018-01-25,1945,119,4,-78.0,754.0,1988 days,1988\\n1835,1864,2018-01-26,1946,120,5,-79.0,753.0,1989 days,1989\\n1836,1865,2018-01-27,1947,120,5,-78.0,751.0,1990 days,1990\\n1837,1866,2018-01-28,1948,121,5,-78.0,752.0,1991 days,1991\\n1838,1867,2018-01-29,1949,121,5,-78.0,751.0,1992 days,1992\\n1839,1868,2018-01-30,1950,122,5,-79.0,750.0,1993 days,1993\\n1840,1869,2018-01-31,1951,122,5,-77.0,749.0,1994 days,1994\\n1841,1871,2018-02-01,1952,123,5,-80.0,748.0,1995 days,1995\\n1842,1870,2018-02-02,1953,123,5,-78.0,747.0,1996 days,1996\\n1843,1872,2018-02-03,1954,124,5,-77.0,745.0,1997 days,1997\\n1844,1873,2018-02-04,1955,124,5,-77.0,745.0,1998 days,1998\\n1845,1879,2018-02-05,1956,125,5,-79.0,744.0,1999 days,1999\\n1846,1875,2018-02-06,1957,125,5,-77.0,742.0,2000 days,2000\\n1847,1874,2018-02-07,1958,126,5,-77.0,741.0,2001 days,2001\\n1848,1878,2018-02-08,1959,126,5,-78.0,740.0,2002 days,2002\\n1849,1876,2018-02-09,1960,127,5,-78.0,740.0,2003 days,2003\\n1850,1877,2018-02-11,1961,127,5,-77.0,740.0,2005 days,2005\\n1851,1880,2018-02-12,1962,128,5,-78.0,738.0,2006 days,2006\\n1852,1881,2018-02-13,1963,128,5,-77.0,737.0,2007 days,2007\\n1853,1882,2018-02-14,1964,129,5,-76.0,736.0,2008 days,2008\\n1854,1883,2018-02-15,1965,129,5,-76.0,735.0,2009 days,2009\\n1855,1884,2018-02-16,1966,130,5,-77.0,735.0,2010 days,2010\\n1856,1885,2018-02-17,1967,130,5,-76.0,734.0,2011 days,2011\\n1857,1886,2018-02-18,1968,131,5,-76.0,732.0,2012 days,2012\\n1858,1887,2018-02-19,1969,131,5,-76.0,732.0,2013 days,2013\\n1859,1888,2018-02-20,1970,132,5,-77.0,731.0,2014 days,2014\\n1860,1890,2018-02-21,1971,132,5,-78.0,731.0,2015 days,2015\\n1861,1891,2018-02-22,1972,133,5,-78.0,730.0,2016 days,2016\\n1862,1889,2018-02-23,1973,133,5,-78.0,730.0,2017 days,2017\\n1863,1892,2018-02-24,1974,134,5,-77.0,729.0,2018 days,2018\\n1864,1894,2018-02-25,1975,134,5,-76.0,729.0,2019 days,2019\\n1865,1893,2018-02-26,1976,135,5,-77.0,728.0,2020 days,2020\\n1866,1895,2018-02-27,1977,135,5,-77.0,727.0,2021 days,2021\\n'"
      ]
     },
     "execution_count": 26,
     "metadata": {},
     "output_type": "execute_result"
    }
   ],
   "source": [
    "# Write the data to a CSV\n",
    "mars_table.to_csv()"
   ]
  },
  {
   "cell_type": "code",
   "execution_count": 27,
   "metadata": {},
   "outputs": [],
   "source": [
    "browser.quit()"
   ]
  },
  {
   "cell_type": "code",
   "execution_count": null,
   "metadata": {},
   "outputs": [],
   "source": []
  }
 ],
 "metadata": {
  "kernelspec": {
   "display_name": "Python 3 (ipykernel)",
   "language": "python",
   "name": "python3"
  },
  "language_info": {
   "codemirror_mode": {
    "name": "ipython",
    "version": 3
   },
   "file_extension": ".py",
   "mimetype": "text/x-python",
   "name": "python",
   "nbconvert_exporter": "python",
   "pygments_lexer": "ipython3",
   "version": "3.10.12"
  },
  "vscode": {
   "interpreter": {
    "hash": "31f2aee4e71d21fbe5cf8b01ff0e069b9275f58929596ceb00d14d90e3e16cd6"
   }
  }
 },
 "nbformat": 4,
 "nbformat_minor": 4
}
